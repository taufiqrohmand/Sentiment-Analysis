{
 "cells": [
  {
   "cell_type": "code",
   "execution_count": 1,
   "metadata": {},
   "outputs": [],
   "source": [
    "#import modul/library\n",
    "import pandas as pd\n",
    "import numpy as np\n",
    "import pickle\n",
    "\n",
    "from sklearn.feature_extraction.text import CountVectorizer\n",
    "from sklearn.model_selection import train_test_split, KFold\n",
    "from sklearn.neural_network import MLPClassifier\n",
    "from sklearn.metrics import classification_report, accuracy_score\n",
    "\n",
    "from Cleansing import clean"
   ]
  },
  {
   "attachments": {},
   "cell_type": "markdown",
   "metadata": {},
   "source": [
    "## EDA & Pre Processing"
   ]
  },
  {
   "cell_type": "code",
   "execution_count": 2,
   "metadata": {},
   "outputs": [
    {
     "data": {
      "text/html": [
       "<div>\n",
       "<style scoped>\n",
       "    .dataframe tbody tr th:only-of-type {\n",
       "        vertical-align: middle;\n",
       "    }\n",
       "\n",
       "    .dataframe tbody tr th {\n",
       "        vertical-align: top;\n",
       "    }\n",
       "\n",
       "    .dataframe thead th {\n",
       "        text-align: right;\n",
       "    }\n",
       "</style>\n",
       "<table border=\"1\" class=\"dataframe\">\n",
       "  <thead>\n",
       "    <tr style=\"text-align: right;\">\n",
       "      <th></th>\n",
       "      <th>Kalimat</th>\n",
       "      <th>Sentiment</th>\n",
       "    </tr>\n",
       "  </thead>\n",
       "  <tbody>\n",
       "    <tr>\n",
       "      <th>0</th>\n",
       "      <td>warung ini dimiliki oleh pengusaha pabrik tahu...</td>\n",
       "      <td>positive</td>\n",
       "    </tr>\n",
       "    <tr>\n",
       "      <th>1</th>\n",
       "      <td>mohon ulama lurus dan k212 mmbri hujjah partai...</td>\n",
       "      <td>neutral</td>\n",
       "    </tr>\n",
       "    <tr>\n",
       "      <th>2</th>\n",
       "      <td>lokasi strategis di jalan sumatera bandung . t...</td>\n",
       "      <td>positive</td>\n",
       "    </tr>\n",
       "    <tr>\n",
       "      <th>3</th>\n",
       "      <td>betapa bahagia nya diri ini saat unboxing pake...</td>\n",
       "      <td>positive</td>\n",
       "    </tr>\n",
       "    <tr>\n",
       "      <th>4</th>\n",
       "      <td>duh . jadi mahasiswa jangan sombong dong . kas...</td>\n",
       "      <td>negative</td>\n",
       "    </tr>\n",
       "  </tbody>\n",
       "</table>\n",
       "</div>"
      ],
      "text/plain": [
       "                                             Kalimat Sentiment\n",
       "0  warung ini dimiliki oleh pengusaha pabrik tahu...  positive\n",
       "1  mohon ulama lurus dan k212 mmbri hujjah partai...   neutral\n",
       "2  lokasi strategis di jalan sumatera bandung . t...  positive\n",
       "3  betapa bahagia nya diri ini saat unboxing pake...  positive\n",
       "4  duh . jadi mahasiswa jangan sombong dong . kas...  negative"
      ]
     },
     "execution_count": 2,
     "metadata": {},
     "output_type": "execute_result"
    }
   ],
   "source": [
    "#read data training\n",
    "trains = pd.read_csv(\"dataset/train_preprocess.tsv.txt\", sep='\\t', names=['Kalimat','Sentiment'])\n",
    "trains.head()"
   ]
  },
  {
   "cell_type": "code",
   "execution_count": 3,
   "metadata": {},
   "outputs": [
    {
     "data": {
      "text/plain": [
       "(11000, 2)"
      ]
     },
     "execution_count": 3,
     "metadata": {},
     "output_type": "execute_result"
    }
   ],
   "source": [
    "#check data volume\n",
    "trains.shape"
   ]
  },
  {
   "cell_type": "code",
   "execution_count": 5,
   "metadata": {},
   "outputs": [
    {
     "data": {
      "text/plain": [
       "Kalimat      0\n",
       "Sentiment    0\n",
       "dtype: int64"
      ]
     },
     "execution_count": 5,
     "metadata": {},
     "output_type": "execute_result"
    }
   ],
   "source": [
    "#check data null\n",
    "trains.isna().sum()"
   ]
  },
  {
   "cell_type": "code",
   "execution_count": 6,
   "metadata": {},
   "outputs": [
    {
     "data": {
      "text/plain": [
       "67"
      ]
     },
     "execution_count": 6,
     "metadata": {},
     "output_type": "execute_result"
    }
   ],
   "source": [
    "#check total data duplicated\n",
    "trains.duplicated().sum()"
   ]
  },
  {
   "cell_type": "code",
   "execution_count": 13,
   "metadata": {},
   "outputs": [],
   "source": [
    "#Remove data duplicated\n",
    "trainn = trains.drop_duplicates(inplace=False, ignore_index=True)"
   ]
  },
  {
   "cell_type": "code",
   "execution_count": 14,
   "metadata": {},
   "outputs": [
    {
     "data": {
      "text/plain": [
       "(10933, 2)"
      ]
     },
     "execution_count": 14,
     "metadata": {},
     "output_type": "execute_result"
    }
   ],
   "source": [
    "#check data voulume after remove duplicated\n",
    "trainn.shape"
   ]
  },
  {
   "cell_type": "code",
   "execution_count": 15,
   "metadata": {},
   "outputs": [
    {
     "data": {
      "text/plain": [
       "positive    6383\n",
       "negative    3412\n",
       "neutral     1138\n",
       "Name: Sentiment, dtype: int64"
      ]
     },
     "execution_count": 15,
     "metadata": {},
     "output_type": "execute_result"
    }
   ],
   "source": [
    "#check distribution label\n",
    "trainn.Sentiment.value_counts()"
   ]
  },
  {
   "cell_type": "code",
   "execution_count": 16,
   "metadata": {},
   "outputs": [
    {
     "data": {
      "text/html": [
       "<div>\n",
       "<style scoped>\n",
       "    .dataframe tbody tr th:only-of-type {\n",
       "        vertical-align: middle;\n",
       "    }\n",
       "\n",
       "    .dataframe tbody tr th {\n",
       "        vertical-align: top;\n",
       "    }\n",
       "\n",
       "    .dataframe thead th {\n",
       "        text-align: right;\n",
       "    }\n",
       "</style>\n",
       "<table border=\"1\" class=\"dataframe\">\n",
       "  <thead>\n",
       "    <tr style=\"text-align: right;\">\n",
       "      <th></th>\n",
       "      <th>Kalimat</th>\n",
       "      <th>Sentiment</th>\n",
       "      <th>Clean</th>\n",
       "    </tr>\n",
       "  </thead>\n",
       "  <tbody>\n",
       "    <tr>\n",
       "      <th>0</th>\n",
       "      <td>warung ini dimiliki oleh pengusaha pabrik tahu...</td>\n",
       "      <td>positive</td>\n",
       "      <td>warung dimiliki pengusaha pabrik puluhan terke...</td>\n",
       "    </tr>\n",
       "    <tr>\n",
       "      <th>1</th>\n",
       "      <td>mohon ulama lurus dan k212 mmbri hujjah partai...</td>\n",
       "      <td>neutral</td>\n",
       "      <td>mohon ulama lurus k212 mmbri hujjah partai diw...</td>\n",
       "    </tr>\n",
       "    <tr>\n",
       "      <th>2</th>\n",
       "      <td>lokasi strategis di jalan sumatera bandung . t...</td>\n",
       "      <td>positive</td>\n",
       "      <td>lokasi strategis jalan sumatra bandung nya nya...</td>\n",
       "    </tr>\n",
       "    <tr>\n",
       "      <th>3</th>\n",
       "      <td>betapa bahagia nya diri ini saat unboxing pake...</td>\n",
       "      <td>positive</td>\n",
       "      <td>betapa bahagia nya unboxing paket barang nya b...</td>\n",
       "    </tr>\n",
       "    <tr>\n",
       "      <th>4</th>\n",
       "      <td>duh . jadi mahasiswa jangan sombong dong . kas...</td>\n",
       "      <td>negative</td>\n",
       "      <td>aduh mahasiswa sombong kasih kartu kuning bela...</td>\n",
       "    </tr>\n",
       "  </tbody>\n",
       "</table>\n",
       "</div>"
      ],
      "text/plain": [
       "                                             Kalimat Sentiment  \\\n",
       "0  warung ini dimiliki oleh pengusaha pabrik tahu...  positive   \n",
       "1  mohon ulama lurus dan k212 mmbri hujjah partai...   neutral   \n",
       "2  lokasi strategis di jalan sumatera bandung . t...  positive   \n",
       "3  betapa bahagia nya diri ini saat unboxing pake...  positive   \n",
       "4  duh . jadi mahasiswa jangan sombong dong . kas...  negative   \n",
       "\n",
       "                                               Clean  \n",
       "0  warung dimiliki pengusaha pabrik puluhan terke...  \n",
       "1  mohon ulama lurus k212 mmbri hujjah partai diw...  \n",
       "2  lokasi strategis jalan sumatra bandung nya nya...  \n",
       "3  betapa bahagia nya unboxing paket barang nya b...  \n",
       "4  aduh mahasiswa sombong kasih kartu kuning bela...  "
      ]
     },
     "execution_count": 16,
     "metadata": {},
     "output_type": "execute_result"
    }
   ],
   "source": [
    "#Clean data training\n",
    "trainn['Clean'] = trainn.Kalimat.apply(clean)\n",
    "trainn.head()"
   ]
  },
  {
   "attachments": {},
   "cell_type": "markdown",
   "metadata": {},
   "source": [
    "## Feature Extraction"
   ]
  },
  {
   "cell_type": "code",
   "execution_count": 17,
   "metadata": {},
   "outputs": [],
   "source": [
    "dataprep = trainn.Clean.to_list()"
   ]
  },
  {
   "cell_type": "code",
   "execution_count": 18,
   "metadata": {},
   "outputs": [
    {
     "name": "stdout",
     "output_type": "stream",
     "text": [
      "Feature Extraction done\n",
      "  (0, 918)\t1\n",
      "  (0, 1013)\t1\n",
      "  (0, 1163)\t1\n",
      "  (0, 1488)\t1\n",
      "  (0, 1713)\t1\n",
      "  (0, 2098)\t1\n",
      "  (0, 3742)\t1\n",
      "  (0, 3794)\t2\n",
      "  (0, 4086)\t1\n",
      "  (0, 5365)\t1\n",
      "  (0, 5759)\t1\n",
      "  (0, 6297)\t1\n",
      "  (0, 6474)\t1\n",
      "  (0, 7329)\t1\n",
      "  (0, 8398)\t1\n",
      "  (0, 8470)\t1\n",
      "  (0, 9197)\t2\n",
      "  (0, 9228)\t1\n",
      "  (0, 10067)\t1\n",
      "  (0, 10306)\t1\n",
      "  (0, 10998)\t1\n",
      "  (0, 11786)\t1\n",
      "  (0, 11824)\t1\n",
      "  (0, 12861)\t1\n",
      "  (0, 14113)\t1\n",
      "  :\t:\n",
      "  (10932, 911)\t1\n",
      "  (10932, 1168)\t1\n",
      "  (10932, 1224)\t1\n",
      "  (10932, 1383)\t1\n",
      "  (10932, 1485)\t1\n",
      "  (10932, 1867)\t1\n",
      "  (10932, 1999)\t1\n",
      "  (10932, 4020)\t1\n",
      "  (10932, 4763)\t1\n",
      "  (10932, 4764)\t1\n",
      "  (10932, 6212)\t1\n",
      "  (10932, 6312)\t1\n",
      "  (10932, 7406)\t1\n",
      "  (10932, 7735)\t1\n",
      "  (10932, 7873)\t1\n",
      "  (10932, 8026)\t1\n",
      "  (10932, 8027)\t2\n",
      "  (10932, 10067)\t3\n",
      "  (10932, 11410)\t1\n",
      "  (10932, 11411)\t1\n",
      "  (10932, 12207)\t1\n",
      "  (10932, 12243)\t1\n",
      "  (10932, 14653)\t1\n",
      "  (10932, 14809)\t1\n",
      "  (10932, 15531)\t1\n"
     ]
    }
   ],
   "source": [
    "cv_nn = CountVectorizer()\n",
    "cv_nn.fit(dataprep)\n",
    "\n",
    "X = cv_nn.transform(dataprep)\n",
    "print('Feature Extraction done')\n",
    "print (X)"
   ]
  },
  {
   "cell_type": "code",
   "execution_count": 19,
   "metadata": {},
   "outputs": [],
   "source": [
    "pickle.dump(cv_nn, open('asset/feature/feature_nn.pickle','wb'))"
   ]
  },
  {
   "attachments": {},
   "cell_type": "markdown",
   "metadata": {},
   "source": [
    "## Train Model"
   ]
  },
  {
   "cell_type": "code",
   "execution_count": 20,
   "metadata": {},
   "outputs": [
    {
     "data": {
      "text/plain": [
       "0        positive\n",
       "1         neutral\n",
       "2        positive\n",
       "3        positive\n",
       "4        negative\n",
       "           ...   \n",
       "10928     neutral\n",
       "10929    positive\n",
       "10930    positive\n",
       "10931    negative\n",
       "10932    positive\n",
       "Name: Sentiment, Length: 10933, dtype: object"
      ]
     },
     "execution_count": 20,
     "metadata": {},
     "output_type": "execute_result"
    }
   ],
   "source": [
    "Y = trainn.Sentiment\n",
    "Y"
   ]
  },
  {
   "cell_type": "code",
   "execution_count": 21,
   "metadata": {},
   "outputs": [],
   "source": [
    "X_train, X_test, Y_train, Y_test = train_test_split(X,Y, test_size=0.2)"
   ]
  },
  {
   "cell_type": "code",
   "execution_count": 22,
   "metadata": {},
   "outputs": [
    {
     "name": "stdout",
     "output_type": "stream",
     "text": [
      "Training selesai\n"
     ]
    }
   ],
   "source": [
    "model_nn = MLPClassifier()\n",
    "model_nn.fit(X_train, Y_train)\n",
    "\n",
    "print('Training selesai')"
   ]
  },
  {
   "cell_type": "code",
   "execution_count": 23,
   "metadata": {},
   "outputs": [],
   "source": [
    "pickle.dump(model_nn, open('asset/model/model_nn.pickle','wb'))"
   ]
  },
  {
   "cell_type": "code",
   "execution_count": 24,
   "metadata": {},
   "outputs": [
    {
     "name": "stdout",
     "output_type": "stream",
     "text": [
      "testing selesai\n",
      "              precision    recall  f1-score   support\n",
      "\n",
      "    negative       0.71      0.74      0.73       699\n",
      "     neutral       0.74      0.52      0.61       246\n",
      "    positive       0.85      0.88      0.86      1242\n",
      "\n",
      "    accuracy                           0.79      2187\n",
      "   macro avg       0.77      0.71      0.73      2187\n",
      "weighted avg       0.79      0.79      0.79      2187\n",
      "\n"
     ]
    }
   ],
   "source": [
    "test = model_nn.predict(X_test)\n",
    "\n",
    "print ('testing selesai')\n",
    "print(classification_report(Y_test, test))"
   ]
  },
  {
   "cell_type": "code",
   "execution_count": 25,
   "metadata": {},
   "outputs": [],
   "source": [
    "# Create a KFold object with 5 splits and a fixed random state\n",
    "Kf = KFold(n_splits=5, shuffle=True, random_state=42)\n",
    "akurasi = []"
   ]
  },
  {
   "cell_type": "code",
   "execution_count": 26,
   "metadata": {},
   "outputs": [
    {
     "name": "stdout",
     "output_type": "stream",
     "text": [
      "Training ke:  1\n",
      "---\n",
      "              precision    recall  f1-score   support\n",
      "\n",
      "    negative       0.71      0.73      0.72       690\n",
      "     neutral       0.71      0.53      0.61       220\n",
      "    positive       0.84      0.87      0.86      1277\n",
      "\n",
      "    accuracy                           0.79      2187\n",
      "   macro avg       0.76      0.71      0.73      2187\n",
      "weighted avg       0.79      0.79      0.79      2187\n",
      "\n",
      "Training ke:  2\n",
      "---\n",
      "              precision    recall  f1-score   support\n",
      "\n",
      "    negative       0.72      0.71      0.72       667\n",
      "     neutral       0.70      0.57      0.63       219\n",
      "    positive       0.85      0.89      0.87      1301\n",
      "\n",
      "    accuracy                           0.80      2187\n",
      "   macro avg       0.76      0.72      0.74      2187\n",
      "weighted avg       0.80      0.80      0.80      2187\n",
      "\n",
      "Training ke:  3\n",
      "---\n",
      "              precision    recall  f1-score   support\n",
      "\n",
      "    negative       0.72      0.70      0.71       695\n",
      "     neutral       0.70      0.57      0.63       213\n",
      "    positive       0.84      0.88      0.86      1279\n",
      "\n",
      "    accuracy                           0.79      2187\n",
      "   macro avg       0.75      0.72      0.73      2187\n",
      "weighted avg       0.79      0.79      0.79      2187\n",
      "\n",
      "Training ke:  4\n",
      "---\n",
      "              precision    recall  f1-score   support\n",
      "\n",
      "    negative       0.69      0.73      0.71       705\n",
      "     neutral       0.71      0.54      0.62       234\n",
      "    positive       0.85      0.86      0.85      1247\n",
      "\n",
      "    accuracy                           0.78      2186\n",
      "   macro avg       0.75      0.71      0.73      2186\n",
      "weighted avg       0.78      0.78      0.78      2186\n",
      "\n",
      "Training ke:  5\n",
      "---\n",
      "              precision    recall  f1-score   support\n",
      "\n",
      "    negative       0.66      0.71      0.68       655\n",
      "     neutral       0.70      0.52      0.60       252\n",
      "    positive       0.84      0.85      0.85      1279\n",
      "\n",
      "    accuracy                           0.77      2186\n",
      "   macro avg       0.73      0.69      0.71      2186\n",
      "weighted avg       0.77      0.77      0.77      2186\n",
      "\n",
      "rata-rata akurasi:  0.7708142726440989\n"
     ]
    }
   ],
   "source": [
    "for iteration, data in enumerate(Kf.split(X), start=1):\n",
    "    data_train = X[data[0]]\n",
    "    target_train = Y[data[0]]\n",
    "\n",
    "    data_test = X[data[1]]\n",
    "    target_test = Y[data[1]]\n",
    "\n",
    "    clf = MLPClassifier()\n",
    "    clf.fit(data_train, target_train)\n",
    "    \n",
    "    pred = clf.predict(data_test)\n",
    "    akrsi = accuracy_score(target_test,pred)\n",
    "\n",
    "    print(\"Training ke: \", iteration)\n",
    "    print(\"---\")\n",
    "    print(classification_report(target_test,pred))\n",
    "\n",
    "akurasi.append(akrsi)\n",
    "print(\"rata-rata akurasi: \", np.mean(akurasi))"
   ]
  },
  {
   "attachments": {},
   "cell_type": "markdown",
   "metadata": {},
   "source": [
    "## Predict"
   ]
  },
  {
   "cell_type": "code",
   "execution_count": 27,
   "metadata": {},
   "outputs": [
    {
     "name": "stdout",
     "output_type": "stream",
     "text": [
      "\n",
      "sabar sik ae rek\n",
      "sentiment: positive\n"
     ]
    }
   ],
   "source": [
    "ori = '''\n",
    "sabar sik ae rek'''\n",
    "\n",
    "te = cv_nn.transform([clean(ori)])\n",
    "res = model_nn.predict(te)[0]\n",
    "\n",
    "print(ori)\n",
    "print('sentiment:', res)"
   ]
  }
 ],
 "metadata": {
  "kernelspec": {
   "display_name": "Python 3",
   "language": "python",
   "name": "python3"
  },
  "language_info": {
   "codemirror_mode": {
    "name": "ipython",
    "version": 3
   },
   "file_extension": ".py",
   "mimetype": "text/x-python",
   "name": "python",
   "nbconvert_exporter": "python",
   "pygments_lexer": "ipython3",
   "version": "3.9.13"
  },
  "orig_nbformat": 4
 },
 "nbformat": 4,
 "nbformat_minor": 2
}
