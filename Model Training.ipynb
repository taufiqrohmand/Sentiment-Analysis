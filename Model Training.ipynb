{
 "cells": [
  {
   "cell_type": "code",
   "execution_count": 78,
   "metadata": {},
   "outputs": [],
   "source": [
    "#import modul/library\n",
    "import pandas as pd\n",
    "import numpy as np\n",
    "import seaborn as sns\n",
    "import matplotlib.pyplot as plt\n",
    "import pickle\n",
    "import nltk\n",
    "\n",
    "from sklearn.feature_extraction.text import CountVectorizer\n",
    "from sklearn.model_selection import train_test_split, KFold\n",
    "from sklearn.neural_network import MLPClassifier\n",
    "from sklearn.metrics import classification_report, accuracy_score, confusion_matrix\n",
    "from keras.preprocessing.text import Tokenizer\n",
    "from keras.utils import pad_sequences\n",
    "from keras import layers, optimizers\n",
    "from keras.models import Sequential, load_model\n",
    "from keras.layers import Dense, Embedding, LSTM, SpatialDropout1D, SimpleRNN, Activation, Flatten\n",
    "from keras.callbacks import EarlyStopping, TensorBoard\n",
    "from keras import backend as K\n",
    "from keras import regularizers\n",
    "from keras.regularizers import L2, L1L2, L1\n",
    "from collections import defaultdict\n",
    "from sklearn import metrics\n",
    "from nltk.tokenize import word_tokenize\n",
    "\n",
    "from Cleansing import clean"
   ]
  },
  {
   "attachments": {},
   "cell_type": "markdown",
   "metadata": {},
   "source": [
    "## EDA & Pre Processing"
   ]
  },
  {
   "cell_type": "code",
   "execution_count": 79,
   "metadata": {},
   "outputs": [
    {
     "data": {
      "text/html": [
       "<div>\n",
       "<style scoped>\n",
       "    .dataframe tbody tr th:only-of-type {\n",
       "        vertical-align: middle;\n",
       "    }\n",
       "\n",
       "    .dataframe tbody tr th {\n",
       "        vertical-align: top;\n",
       "    }\n",
       "\n",
       "    .dataframe thead th {\n",
       "        text-align: right;\n",
       "    }\n",
       "</style>\n",
       "<table border=\"1\" class=\"dataframe\">\n",
       "  <thead>\n",
       "    <tr style=\"text-align: right;\">\n",
       "      <th></th>\n",
       "      <th>Kalimat</th>\n",
       "      <th>Sentiment</th>\n",
       "    </tr>\n",
       "  </thead>\n",
       "  <tbody>\n",
       "    <tr>\n",
       "      <th>0</th>\n",
       "      <td>warung ini dimiliki oleh pengusaha pabrik tahu...</td>\n",
       "      <td>positive</td>\n",
       "    </tr>\n",
       "    <tr>\n",
       "      <th>1</th>\n",
       "      <td>mohon ulama lurus dan k212 mmbri hujjah partai...</td>\n",
       "      <td>neutral</td>\n",
       "    </tr>\n",
       "    <tr>\n",
       "      <th>2</th>\n",
       "      <td>lokasi strategis di jalan sumatera bandung . t...</td>\n",
       "      <td>positive</td>\n",
       "    </tr>\n",
       "    <tr>\n",
       "      <th>3</th>\n",
       "      <td>betapa bahagia nya diri ini saat unboxing pake...</td>\n",
       "      <td>positive</td>\n",
       "    </tr>\n",
       "    <tr>\n",
       "      <th>4</th>\n",
       "      <td>duh . jadi mahasiswa jangan sombong dong . kas...</td>\n",
       "      <td>negative</td>\n",
       "    </tr>\n",
       "  </tbody>\n",
       "</table>\n",
       "</div>"
      ],
      "text/plain": [
       "                                             Kalimat Sentiment\n",
       "0  warung ini dimiliki oleh pengusaha pabrik tahu...  positive\n",
       "1  mohon ulama lurus dan k212 mmbri hujjah partai...   neutral\n",
       "2  lokasi strategis di jalan sumatera bandung . t...  positive\n",
       "3  betapa bahagia nya diri ini saat unboxing pake...  positive\n",
       "4  duh . jadi mahasiswa jangan sombong dong . kas...  negative"
      ]
     },
     "execution_count": 79,
     "metadata": {},
     "output_type": "execute_result"
    }
   ],
   "source": [
    "#read data training\n",
    "trains = pd.read_csv(\"dataset/train_preprocess.tsv.txt\", sep='\\t', names=['Kalimat','Sentiment'])\n",
    "trains.head()"
   ]
  },
  {
   "cell_type": "code",
   "execution_count": 80,
   "metadata": {},
   "outputs": [
    {
     "data": {
      "text/plain": [
       "(11000, 2)"
      ]
     },
     "execution_count": 80,
     "metadata": {},
     "output_type": "execute_result"
    }
   ],
   "source": [
    "#check data volume\n",
    "trains.shape"
   ]
  },
  {
   "cell_type": "code",
   "execution_count": 81,
   "metadata": {},
   "outputs": [
    {
     "data": {
      "text/plain": [
       "Kalimat      0\n",
       "Sentiment    0\n",
       "dtype: int64"
      ]
     },
     "execution_count": 81,
     "metadata": {},
     "output_type": "execute_result"
    }
   ],
   "source": [
    "#check data null\n",
    "trains.isna().sum()"
   ]
  },
  {
   "cell_type": "code",
   "execution_count": 82,
   "metadata": {},
   "outputs": [
    {
     "data": {
      "text/plain": [
       "67"
      ]
     },
     "execution_count": 82,
     "metadata": {},
     "output_type": "execute_result"
    }
   ],
   "source": [
    "#check total data duplicated\n",
    "trains.duplicated().sum()"
   ]
  },
  {
   "cell_type": "code",
   "execution_count": 83,
   "metadata": {},
   "outputs": [],
   "source": [
    "#Remove data duplicated\n",
    "traints = trains.drop_duplicates(inplace=False, ignore_index=True)"
   ]
  },
  {
   "cell_type": "code",
   "execution_count": 84,
   "metadata": {},
   "outputs": [
    {
     "data": {
      "text/plain": [
       "(10933, 2)"
      ]
     },
     "execution_count": 84,
     "metadata": {},
     "output_type": "execute_result"
    }
   ],
   "source": [
    "#check data voulume after remove duplicated\n",
    "traints.shape"
   ]
  },
  {
   "cell_type": "code",
   "execution_count": 85,
   "metadata": {},
   "outputs": [
    {
     "data": {
      "text/plain": [
       "positive    6383\n",
       "negative    3412\n",
       "neutral     1138\n",
       "Name: Sentiment, dtype: int64"
      ]
     },
     "execution_count": 85,
     "metadata": {},
     "output_type": "execute_result"
    }
   ],
   "source": [
    "#check distribution label\n",
    "traints.Sentiment.value_counts()"
   ]
  },
  {
   "cell_type": "code",
   "execution_count": 87,
   "metadata": {},
   "outputs": [
    {
     "name": "stderr",
     "output_type": "stream",
     "text": [
      "C:\\Users\\BAV USER\\AppData\\Local\\Temp\\ipykernel_9468\\628772995.py:2: SettingWithCopyWarning: \n",
      "A value is trying to be set on a copy of a slice from a DataFrame.\n",
      "Try using .loc[row_indexer,col_indexer] = value instead\n",
      "\n",
      "See the caveats in the documentation: https://pandas.pydata.org/pandas-docs/stable/user_guide/indexing.html#returning-a-view-versus-a-copy\n",
      "  traints['Clean'] = traints.Kalimat.apply(clean)\n"
     ]
    },
    {
     "data": {
      "text/html": [
       "<div>\n",
       "<style scoped>\n",
       "    .dataframe tbody tr th:only-of-type {\n",
       "        vertical-align: middle;\n",
       "    }\n",
       "\n",
       "    .dataframe tbody tr th {\n",
       "        vertical-align: top;\n",
       "    }\n",
       "\n",
       "    .dataframe thead th {\n",
       "        text-align: right;\n",
       "    }\n",
       "</style>\n",
       "<table border=\"1\" class=\"dataframe\">\n",
       "  <thead>\n",
       "    <tr style=\"text-align: right;\">\n",
       "      <th></th>\n",
       "      <th>Kalimat</th>\n",
       "      <th>Sentiment</th>\n",
       "      <th>Clean</th>\n",
       "    </tr>\n",
       "  </thead>\n",
       "  <tbody>\n",
       "    <tr>\n",
       "      <th>0</th>\n",
       "      <td>warung ini dimiliki oleh pengusaha pabrik tahu...</td>\n",
       "      <td>positive</td>\n",
       "      <td>warung dimiliki pengusaha pabrik puluhan terke...</td>\n",
       "    </tr>\n",
       "    <tr>\n",
       "      <th>1</th>\n",
       "      <td>mohon ulama lurus dan k212 mmbri hujjah partai...</td>\n",
       "      <td>neutral</td>\n",
       "      <td>mohon ulama lurus k212 mmbri hujjah partai diw...</td>\n",
       "    </tr>\n",
       "    <tr>\n",
       "      <th>2</th>\n",
       "      <td>lokasi strategis di jalan sumatera bandung . t...</td>\n",
       "      <td>positive</td>\n",
       "      <td>lokasi strategis jalan sumatra bandung nya nya...</td>\n",
       "    </tr>\n",
       "    <tr>\n",
       "      <th>3</th>\n",
       "      <td>betapa bahagia nya diri ini saat unboxing pake...</td>\n",
       "      <td>positive</td>\n",
       "      <td>betapa bahagia nya unboxing paket barang nya b...</td>\n",
       "    </tr>\n",
       "    <tr>\n",
       "      <th>4</th>\n",
       "      <td>duh . jadi mahasiswa jangan sombong dong . kas...</td>\n",
       "      <td>negative</td>\n",
       "      <td>aduh mahasiswa sombong kasih kartu kuning bela...</td>\n",
       "    </tr>\n",
       "  </tbody>\n",
       "</table>\n",
       "</div>"
      ],
      "text/plain": [
       "                                             Kalimat Sentiment  \\\n",
       "0  warung ini dimiliki oleh pengusaha pabrik tahu...  positive   \n",
       "1  mohon ulama lurus dan k212 mmbri hujjah partai...   neutral   \n",
       "2  lokasi strategis di jalan sumatera bandung . t...  positive   \n",
       "3  betapa bahagia nya diri ini saat unboxing pake...  positive   \n",
       "4  duh . jadi mahasiswa jangan sombong dong . kas...  negative   \n",
       "\n",
       "                                               Clean  \n",
       "0  warung dimiliki pengusaha pabrik puluhan terke...  \n",
       "1  mohon ulama lurus k212 mmbri hujjah partai diw...  \n",
       "2  lokasi strategis jalan sumatra bandung nya nya...  \n",
       "3  betapa bahagia nya unboxing paket barang nya b...  \n",
       "4  aduh mahasiswa sombong kasih kartu kuning bela...  "
      ]
     },
     "execution_count": 87,
     "metadata": {},
     "output_type": "execute_result"
    }
   ],
   "source": [
    "#Clean data training\n",
    "traints['Clean'] = traints.Kalimat.apply(clean)\n",
    "traints.head()"
   ]
  },
  {
   "attachments": {},
   "cell_type": "markdown",
   "metadata": {},
   "source": [
    "### Outlier"
   ]
  },
  {
   "cell_type": "code",
   "execution_count": 88,
   "metadata": {},
   "outputs": [
    {
     "name": "stderr",
     "output_type": "stream",
     "text": [
      "C:\\Users\\BAV USER\\AppData\\Local\\Temp\\ipykernel_9468\\1741952076.py:1: SettingWithCopyWarning: \n",
      "A value is trying to be set on a copy of a slice from a DataFrame.\n",
      "Try using .loc[row_indexer,col_indexer] = value instead\n",
      "\n",
      "See the caveats in the documentation: https://pandas.pydata.org/pandas-docs/stable/user_guide/indexing.html#returning-a-view-versus-a-copy\n",
      "  traints['total_char'] = traints['Clean'].apply(len)\n",
      "C:\\Users\\BAV USER\\AppData\\Local\\Temp\\ipykernel_9468\\1741952076.py:2: SettingWithCopyWarning: \n",
      "A value is trying to be set on a copy of a slice from a DataFrame.\n",
      "Try using .loc[row_indexer,col_indexer] = value instead\n",
      "\n",
      "See the caveats in the documentation: https://pandas.pydata.org/pandas-docs/stable/user_guide/indexing.html#returning-a-view-versus-a-copy\n",
      "  traints['total_word'] = traints['Clean'].apply(lambda x: len(x.split()))\n"
     ]
    }
   ],
   "source": [
    "traints['total_char'] = traints['Clean'].apply(len)\n",
    "traints['total_word'] = traints['Clean'].apply(lambda x: len(x.split()))"
   ]
  },
  {
   "cell_type": "code",
   "execution_count": 89,
   "metadata": {},
   "outputs": [
    {
     "name": "stdout",
     "output_type": "stream",
     "text": [
      "                                                 Kalimat Sentiment  \\\n",
      "347    pertama kali mencoba ke richeese factory mingg...  positive   \n",
      "765    there was some gazebo atau bale-bale as the di...  positive   \n",
      "940    tadi pas makan malam saya ke sini , suasana re...  positive   \n",
      "1009   saya mendapat referensi dari teman saya mengen...  positive   \n",
      "1342   rekan saudara ku mca , mari viralkan untuk men...  negative   \n",
      "1421   restoran nya . suharti kini pecah kongsi menja...  positive   \n",
      "2053   senin sore saya ke restoran ini , kira jam 2 s...  positive   \n",
      "2236   suasana nya bagus alami seperti di desa banget...  negative   \n",
      "2788   tanggal 24 malam saya ke sini . alamat nya jal...  positive   \n",
      "2981   braga permai has been on jalan bragaweg sejak ...  positive   \n",
      "3633   lagi bingung cari tempat makan yang enak , asi...  positive   \n",
      "3948   resto ini mempunyai desain interior yang menar...  positive   \n",
      "4142   menu favorit saya kepiting saos singapore , ra...  positive   \n",
      "4285   sumbang saran buat pilgub jabar biar ramai : 1...   neutral   \n",
      "4297   kafe dengan suasana yang nyaman , bikin betah ...  positive   \n",
      "4478   ahok dipindah ke mako brimob dengan alasan sit...  negative   \n",
      "4541   halo kali ini saya akan mencoba makan di steak...  positive   \n",
      "4709   kondisi nya sepi tetapi makanan keluar nya lam...  negative   \n",
      "4748   sayur asam rasanya mantap , pas tidak terlalu ...  positive   \n",
      "4909   kebetulan baru merasakan yang dekat rumah . da...  positive   \n",
      "5554   waktu tanggal 26 juni , saya berkunjung ke sui...  positive   \n",
      "5734   calon tunggal pilkada papua : 10 parpol pemili...   neutral   \n",
      "6129   kami sekeluarga memesan steak angus rib eye te...  negative   \n",
      "6532   setiap kali ke banjar selalu mampir ke resto i...  positive   \n",
      "7208   resto yang menyajikan kuliner khas chinese yan...  positive   \n",
      "7289   ada tempat nama nya bebeke om aris , di jalan ...  positive   \n",
      "7323   restoran ini menyediakan masakan khas sunda tr...  positive   \n",
      "7617   posisi restoran ini cukup oke . pemandangan ko...  positive   \n",
      "8077   sepertinya ini satu-satunya mal terlengkap den...  positive   \n",
      "9115   the peak , lokasi nya cukup jauh dari pusat ko...  positive   \n",
      "9360   lokasi lontong medan kak zahra berlokasi di ja...  positive   \n",
      "9553   pertama masuk sini , sepi , art space nya juga...  positive   \n",
      "9607   jalan-jalan ke bandung , terus mau ke tangkuba...  positive   \n",
      "10167  beken banget di media sosial jadi penasaran ny...  negative   \n",
      "10257  hai pribumi-pribumi , para nasionalis sejati ,...  negative   \n",
      "10333  lokasi nya mudah dicapai , dari jalan banda se...  positive   \n",
      "10407  resto ini suasana nya cukup nyaman meskipun ra...  positive   \n",
      "10734  resto indonesian makanan di bandung yang 1 ini...  positive   \n",
      "10886  maaf pol cuma berani dengan ahok . dengan briz...  negative   \n",
      "\n",
      "                                                   Clean  total_char  \\\n",
      "347    kali mencoba richeese factory minggu 22 maret ...         261   \n",
      "765    there was some gazebo bale bale as the dining ...         272   \n",
      "940    pas makan malam suasana restoran nyaman banget...         302   \n",
      "1009   referensi teman ayam goreng nikmat kabar nya e...         288   \n",
      "1342   rekan saudara ku muslim cyber army mari viralk...         422   \n",
      "1421   restoran nya suharti pecah kongsi 2 restorant ...         336   \n",
      "2053   senin sore restoran jam 2 siang memesan kepiti...         333   \n",
      "2236   suasana nya bagus alami desa banget pinggir hu...         296   \n",
      "2788   tanggal 24 malam alamat nya jalan kebonjati 11...         428   \n",
      "2981   braga permai has been on jalan bragaweg 1923 f...         299   \n",
      "3633   bingung cari makan enak asyik murah iseng brow...         275   \n",
      "3948   resto desain interior menarik layanan nya ters...         303   \n",
      "4142   menu favorit kepiting saos singapura bawang pu...         317   \n",
      "4285   sumbang saran pilihan gubernur jabar biar rama...         302   \n",
      "4297   kafe suasana nyaman bikin betah berasa rumah a...         300   \n",
      "4478   ahok dipindah markas komando brigade mobil ala...         355   \n",
      "4541   halo kali mencoba makan steak bahan bakar miny...         303   \n",
      "4709   kondisi nya sepi makanan nya spaghetti 1 2 jam...         272   \n",
      "4748   sayur asam mantap pas asam 1 porsi harga sayur...         254   \n",
      "4909   merasakan rumah penasaran hit nya sambal nya e...         296   \n",
      "5554   tanggal 26 juni berkunjung suis butcher terlet...         344   \n",
      "5734   calon tunggal pilihan kepala daerah papua 10 p...         313   \n",
      "6129   sekeluarga memesan steak angus rib eye daging ...         328   \n",
      "6532   kali banjar mampir resto sih beli nasi liwet p...         303   \n",
      "7208   resto menyajikan kuliner khas cina enak bandun...         281   \n",
      "7289   nama nya bebeke om aris jalan dipatiukur gerba...         317   \n",
      "7323   restoran menyediakan masakan khas sunda tradis...         301   \n",
      "7617   posisi restoran oke pemandangan kota bandung s...         320   \n",
      "8077   satunya mal terlengkap barang barang bermerek ...         296   \n",
      "9115   the peak lokasi nya pusat kota bandung menelus...         340   \n",
      "9360   lokasi lontong medan kak zahra berlokasi jalan...         342   \n",
      "9553   masuk sepi a space nya menarik toko souvenir h...         316   \n",
      "9607   jalan jalan bandung tangkuban perahu pas bange...         292   \n",
      "10167  beken banget media sosial penasaran nyobian or...         327   \n",
      "10257  hai pribumi pribumi nasionalis sejati pencinta...         400   \n",
      "10333  lokasi nya mudah dicapai jalan banda sebelah h...         312   \n",
      "10407  resto suasana nya nyaman ramai jam makan terse...         295   \n",
      "10734  resto indonesia makanan bandung 1 bikin ketagi...         321   \n",
      "10886  maaf pol berani ahok brizik dipanggil 3 kali h...         315   \n",
      "\n",
      "       total_word  \n",
      "347            47  \n",
      "765            48  \n",
      "940            52  \n",
      "1009           47  \n",
      "1342           54  \n",
      "1421           50  \n",
      "2053           57  \n",
      "2236           50  \n",
      "2788           78  \n",
      "2981           47  \n",
      "3633           47  \n",
      "3948           48  \n",
      "4142           51  \n",
      "4285           47  \n",
      "4297           47  \n",
      "4478           52  \n",
      "4541           49  \n",
      "4709           49  \n",
      "4748           47  \n",
      "4909           50  \n",
      "5554           50  \n",
      "5734           53  \n",
      "6129           51  \n",
      "6532           50  \n",
      "7208           51  \n",
      "7289           52  \n",
      "7323           47  \n",
      "7617           50  \n",
      "8077           47  \n",
      "9115           51  \n",
      "9360           49  \n",
      "9553           51  \n",
      "9607           49  \n",
      "10167          54  \n",
      "10257          51  \n",
      "10333          49  \n",
      "10407          47  \n",
      "10734          52  \n",
      "10886          48  \n"
     ]
    }
   ],
   "source": [
    "Q1 = traints['total_word'].quantile(0.25)\n",
    "Q3 = traints['total_word'].quantile(0.75)\n",
    "\n",
    "# IQR\n",
    "IQR = Q3 - Q1\n",
    "\n",
    "# Menghitung batas bawah dan atas\n",
    "batas_bawah = Q1 - 1.5 * IQR\n",
    "batas_atas = Q3 + 1.5 * IQR\n",
    "\n",
    "# Mendeteksi outlier\n",
    "outlier = traints[(traints['total_word'] < batas_bawah) | (traints['total_word'] > batas_atas)]\n",
    "print(outlier)"
   ]
  },
  {
   "cell_type": "code",
   "execution_count": 90,
   "metadata": {},
   "outputs": [
    {
     "data": {
      "image/png": "[encoded data removed]",
      "text/plain": [
       "<Figure size 640x480 with 1 Axes>"
      ]
     },
     "metadata": {},
     "output_type": "display_data"
    }
   ],
   "source": [
    "traints.boxplot(column='total_word')\n",
    "plt.show()"
   ]
  },
  {
   "cell_type": "code",
   "execution_count": 91,
   "metadata": {},
   "outputs": [
    {
     "name": "stdout",
     "output_type": "stream",
     "text": [
      "Jumlah outlier: 39\n"
     ]
    }
   ],
   "source": [
    "jumlah_outlier = len(outlier)\n",
    "print(f\"Jumlah outlier: {jumlah_outlier}\")"
   ]
  },
  {
   "cell_type": "code",
   "execution_count": 92,
   "metadata": {},
   "outputs": [
    {
     "data": {
      "text/html": [
       "<div>\n",
       "<style scoped>\n",
       "    .dataframe tbody tr th:only-of-type {\n",
       "        vertical-align: middle;\n",
       "    }\n",
       "\n",
       "    .dataframe tbody tr th {\n",
       "        vertical-align: top;\n",
       "    }\n",
       "\n",
       "    .dataframe thead th {\n",
       "        text-align: right;\n",
       "    }\n",
       "</style>\n",
       "<table border=\"1\" class=\"dataframe\">\n",
       "  <thead>\n",
       "    <tr style=\"text-align: right;\">\n",
       "      <th></th>\n",
       "      <th>Kalimat</th>\n",
       "      <th>Sentiment</th>\n",
       "      <th>Clean</th>\n",
       "      <th>total_char</th>\n",
       "      <th>total_word</th>\n",
       "    </tr>\n",
       "  </thead>\n",
       "  <tbody>\n",
       "    <tr>\n",
       "      <th>10889</th>\n",
       "      <td>f - demokrat dorong upaya kemandirian energi n...</td>\n",
       "      <td>neutral</td>\n",
       "      <td>f demokrat dorong upaya kemandirian energi nas...</td>\n",
       "      <td>51</td>\n",
       "      <td>7</td>\n",
       "    </tr>\n",
       "    <tr>\n",
       "      <th>10890</th>\n",
       "      <td>tidak bosan</td>\n",
       "      <td>positive</td>\n",
       "      <td>bosan</td>\n",
       "      <td>5</td>\n",
       "      <td>1</td>\n",
       "    </tr>\n",
       "    <tr>\n",
       "      <th>10891</th>\n",
       "      <td>enak rasa masakan nya apalagi kepiting yang me...</td>\n",
       "      <td>positive</td>\n",
       "      <td>enak masakan nya kepiting menyenangkan memilih...</td>\n",
       "      <td>80</td>\n",
       "      <td>11</td>\n",
       "    </tr>\n",
       "    <tr>\n",
       "      <th>10892</th>\n",
       "      <td>pagi pagi di tol pasteur sudah macet parah , b...</td>\n",
       "      <td>negative</td>\n",
       "      <td>pagi pagi tol pasteur macet parah bikin jengkel</td>\n",
       "      <td>47</td>\n",
       "      <td>8</td>\n",
       "    </tr>\n",
       "    <tr>\n",
       "      <th>10893</th>\n",
       "      <td>meskipun sering belanja ke yogya di riau junct...</td>\n",
       "      <td>positive</td>\n",
       "      <td>belanja yogyakarta riau junction kali lihat fo...</td>\n",
       "      <td>196</td>\n",
       "      <td>28</td>\n",
       "    </tr>\n",
       "  </tbody>\n",
       "</table>\n",
       "</div>"
      ],
      "text/plain": [
       "                                                 Kalimat Sentiment  \\\n",
       "10889  f - demokrat dorong upaya kemandirian energi n...   neutral   \n",
       "10890                                        tidak bosan  positive   \n",
       "10891  enak rasa masakan nya apalagi kepiting yang me...  positive   \n",
       "10892  pagi pagi di tol pasteur sudah macet parah , b...  negative   \n",
       "10893  meskipun sering belanja ke yogya di riau junct...  positive   \n",
       "\n",
       "                                                   Clean  total_char  \\\n",
       "10889  f demokrat dorong upaya kemandirian energi nas...          51   \n",
       "10890                                              bosan           5   \n",
       "10891  enak masakan nya kepiting menyenangkan memilih...          80   \n",
       "10892    pagi pagi tol pasteur macet parah bikin jengkel          47   \n",
       "10893  belanja yogyakarta riau junction kali lihat fo...         196   \n",
       "\n",
       "       total_word  \n",
       "10889           7  \n",
       "10890           1  \n",
       "10891          11  \n",
       "10892           8  \n",
       "10893          28  "
      ]
     },
     "execution_count": 92,
     "metadata": {},
     "output_type": "execute_result"
    }
   ],
   "source": [
    "#data training no outlier\n",
    "trainn = traints[(traints['total_word'] >= batas_bawah) & (traints['total_word'] <= batas_atas)]\n",
    "trainn = trainn.reset_index(drop=True)\n",
    "trainn.tail()"
   ]
  },
  {
   "cell_type": "code",
   "execution_count": 93,
   "metadata": {},
   "outputs": [
    {
     "data": {
      "text/plain": [
       "(10894, 5)"
      ]
     },
     "execution_count": 93,
     "metadata": {},
     "output_type": "execute_result"
    }
   ],
   "source": [
    "trainn.shape"
   ]
  },
  {
   "attachments": {},
   "cell_type": "markdown",
   "metadata": {},
   "source": [
    "## Neural Network (MLP Classifier)"
   ]
  },
  {
   "attachments": {},
   "cell_type": "markdown",
   "metadata": {},
   "source": [
    "### Feature Extraction"
   ]
  },
  {
   "cell_type": "code",
   "execution_count": 94,
   "metadata": {},
   "outputs": [
    {
     "name": "stdout",
     "output_type": "stream",
     "text": [
      "Feature Extraction done\n",
      "  (0, 912)\t1\n",
      "  (0, 1005)\t1\n",
      "  (0, 1155)\t1\n",
      "  (0, 1475)\t1\n",
      "  (0, 1700)\t1\n",
      "  (0, 2085)\t1\n",
      "  (0, 3714)\t1\n",
      "  (0, 3766)\t2\n",
      "  (0, 4053)\t1\n",
      "  (0, 5322)\t1\n",
      "  (0, 5714)\t1\n",
      "  (0, 6248)\t1\n",
      "  (0, 6424)\t1\n",
      "  (0, 7275)\t1\n",
      "  (0, 8340)\t1\n",
      "  (0, 8411)\t1\n",
      "  (0, 9134)\t2\n",
      "  (0, 9165)\t1\n",
      "  (0, 10003)\t1\n",
      "  (0, 10240)\t1\n",
      "  (0, 10927)\t1\n",
      "  (0, 11713)\t1\n",
      "  (0, 11751)\t1\n",
      "  (0, 12786)\t1\n",
      "  (0, 14032)\t1\n",
      "  :\t:\n",
      "  (10893, 905)\t1\n",
      "  (10893, 1160)\t1\n",
      "  (10893, 1215)\t1\n",
      "  (10893, 1371)\t1\n",
      "  (10893, 1472)\t1\n",
      "  (10893, 1854)\t1\n",
      "  (10893, 1986)\t1\n",
      "  (10893, 3990)\t1\n",
      "  (10893, 4723)\t1\n",
      "  (10893, 4724)\t1\n",
      "  (10893, 6167)\t1\n",
      "  (10893, 6263)\t1\n",
      "  (10893, 7352)\t1\n",
      "  (10893, 7680)\t1\n",
      "  (10893, 7818)\t1\n",
      "  (10893, 7971)\t1\n",
      "  (10893, 7972)\t2\n",
      "  (10893, 10003)\t3\n",
      "  (10893, 11338)\t1\n",
      "  (10893, 11339)\t1\n",
      "  (10893, 12133)\t1\n",
      "  (10893, 12169)\t1\n",
      "  (10893, 14569)\t1\n",
      "  (10893, 14723)\t1\n",
      "  (10893, 15439)\t1\n"
     ]
    }
   ],
   "source": [
    "dataprep = trainn.Clean.to_list()\n",
    "cv_nn = CountVectorizer()\n",
    "cv_nn.fit(dataprep)\n",
    "\n",
    "X = cv_nn.transform(dataprep)\n",
    "print('Feature Extraction done')\n",
    "print (X)"
   ]
  },
  {
   "cell_type": "code",
   "execution_count": 95,
   "metadata": {},
   "outputs": [],
   "source": [
    "pickle.dump(cv_nn, open('asset/feature/feature_nn.pickle','wb'))"
   ]
  },
  {
   "attachments": {},
   "cell_type": "markdown",
   "metadata": {},
   "source": [
    "### Train Model NN"
   ]
  },
  {
   "cell_type": "code",
   "execution_count": 96,
   "metadata": {},
   "outputs": [
    {
     "data": {
      "text/plain": [
       "0    positive\n",
       "1     neutral\n",
       "2    positive\n",
       "3    positive\n",
       "4    negative\n",
       "Name: Sentiment, dtype: object"
      ]
     },
     "execution_count": 96,
     "metadata": {},
     "output_type": "execute_result"
    }
   ],
   "source": [
    "Y = trainn.Sentiment\n",
    "Y.head()"
   ]
  },
  {
   "cell_type": "code",
   "execution_count": 97,
   "metadata": {},
   "outputs": [],
   "source": [
    "X_train, X_test, Y_train, Y_test = train_test_split(X,Y, test_size=0.2)"
   ]
  },
  {
   "cell_type": "code",
   "execution_count": 98,
   "metadata": {},
   "outputs": [
    {
     "name": "stdout",
     "output_type": "stream",
     "text": [
      "Training selesai\n"
     ]
    }
   ],
   "source": [
    "model_nn = MLPClassifier()\n",
    "model_nn.fit(X_train, Y_train)\n",
    "\n",
    "print('Training selesai')"
   ]
  },
  {
   "cell_type": "code",
   "execution_count": 99,
   "metadata": {},
   "outputs": [],
   "source": [
    "pickle.dump(model_nn, open('asset/model/model_nn.pickle','wb'))"
   ]
  },
  {
   "attachments": {},
   "cell_type": "markdown",
   "metadata": {},
   "source": [
    "### Evaluation NN"
   ]
  },
  {
   "cell_type": "code",
   "execution_count": 100,
   "metadata": {},
   "outputs": [
    {
     "name": "stdout",
     "output_type": "stream",
     "text": [
      "testing selesai\n",
      "              precision    recall  f1-score   support\n",
      "\n",
      "    negative       0.70      0.73      0.72       709\n",
      "     neutral       0.73      0.54      0.62       225\n",
      "    positive       0.85      0.87      0.86      1245\n",
      "\n",
      "    accuracy                           0.79      2179\n",
      "   macro avg       0.76      0.71      0.73      2179\n",
      "weighted avg       0.79      0.79      0.79      2179\n",
      "\n"
     ]
    }
   ],
   "source": [
    "test = model_nn.predict(X_test)\n",
    "\n",
    "print ('testing selesai')\n",
    "print(classification_report(Y_test, test))"
   ]
  },
  {
   "cell_type": "code",
   "execution_count": 101,
   "metadata": {},
   "outputs": [
    {
     "data": {
      "image/png": "[encoded data removed]",
      "text/plain": [
       "<Figure size 640x480 with 2 Axes>"
      ]
     },
     "metadata": {},
     "output_type": "display_data"
    }
   ],
   "source": [
    "cm_nn = confusion_matrix(Y_test, test)\n",
    "\n",
    "sns.heatmap(cm_nn, annot=True, cmap='Blues', fmt='g')\n",
    "plt.xlabel('Predicted labels')\n",
    "plt.ylabel('True labels')\n",
    "plt.show()"
   ]
  },
  {
   "cell_type": "code",
   "execution_count": 102,
   "metadata": {},
   "outputs": [],
   "source": [
    "# Create a KFold object with 5 splits and a fixed random state\n",
    "Kf = KFold(n_splits=5, shuffle=True, random_state=42)\n",
    "akurasi = []"
   ]
  },
  {
   "cell_type": "code",
   "execution_count": 103,
   "metadata": {},
   "outputs": [
    {
     "name": "stdout",
     "output_type": "stream",
     "text": [
      "Training ke:  1\n",
      "---\n",
      "              precision    recall  f1-score   support\n",
      "\n",
      "    negative       0.74      0.76      0.75       720\n",
      "     neutral       0.67      0.57      0.61       214\n",
      "    positive       0.86      0.87      0.87      1245\n",
      "\n",
      "    accuracy                           0.80      2179\n",
      "   macro avg       0.76      0.73      0.74      2179\n",
      "weighted avg       0.80      0.80      0.80      2179\n",
      "\n",
      "Training ke:  2\n",
      "---\n",
      "              precision    recall  f1-score   support\n",
      "\n",
      "    negative       0.68      0.74      0.71       679\n",
      "     neutral       0.72      0.53      0.61       223\n",
      "    positive       0.86      0.86      0.86      1277\n",
      "\n",
      "    accuracy                           0.79      2179\n",
      "   macro avg       0.75      0.71      0.73      2179\n",
      "weighted avg       0.79      0.79      0.79      2179\n",
      "\n",
      "Training ke:  3\n",
      "---\n",
      "              precision    recall  f1-score   support\n",
      "\n",
      "    negative       0.68      0.69      0.68       638\n",
      "     neutral       0.70      0.55      0.62       246\n",
      "    positive       0.85      0.88      0.86      1295\n",
      "\n",
      "    accuracy                           0.78      2179\n",
      "   macro avg       0.74      0.70      0.72      2179\n",
      "weighted avg       0.78      0.78      0.78      2179\n",
      "\n",
      "Training ke:  4\n",
      "---\n",
      "              precision    recall  f1-score   support\n",
      "\n",
      "    negative       0.71      0.74      0.72       703\n",
      "     neutral       0.71      0.57      0.63       233\n",
      "    positive       0.85      0.86      0.85      1243\n",
      "\n",
      "    accuracy                           0.79      2179\n",
      "   macro avg       0.76      0.72      0.74      2179\n",
      "weighted avg       0.79      0.79      0.79      2179\n",
      "\n",
      "Training ke:  5\n",
      "---\n",
      "              precision    recall  f1-score   support\n",
      "\n",
      "    negative       0.68      0.72      0.70       664\n",
      "     neutral       0.74      0.54      0.62       220\n",
      "    positive       0.85      0.87      0.86      1294\n",
      "\n",
      "    accuracy                           0.79      2178\n",
      "   macro avg       0.76      0.71      0.73      2178\n",
      "weighted avg       0.79      0.79      0.78      2178\n",
      "\n",
      "rata-rata akurasi:  0.7865013774104683\n"
     ]
    }
   ],
   "source": [
    "for iteration, data in enumerate(Kf.split(X), start=1):\n",
    "    data_train = X[data[0]]\n",
    "    target_train = Y[data[0]]\n",
    "\n",
    "    data_test = X[data[1]]\n",
    "    target_test = Y[data[1]]\n",
    "\n",
    "    clf = MLPClassifier()\n",
    "    clf.fit(data_train, target_train)\n",
    "    \n",
    "    pred = clf.predict(data_test)\n",
    "    akrsi = accuracy_score(target_test,pred)\n",
    "\n",
    "    print(\"Training ke: \", iteration)\n",
    "    print(\"---\")\n",
    "    print(classification_report(target_test,pred))\n",
    "\n",
    "akurasi.append(akrsi)\n",
    "print(\"rata-rata akurasi: \", np.mean(akurasi))"
   ]
  },
  {
   "attachments": {},
   "cell_type": "markdown",
   "metadata": {},
   "source": [
    "### Predict Test NN"
   ]
  },
  {
   "cell_type": "code",
   "execution_count": 104,
   "metadata": {},
   "outputs": [
    {
     "name": "stdout",
     "output_type": "stream",
     "text": [
      "\n",
      "selamat makan\n",
      "sentiment: neutral\n"
     ]
    }
   ],
   "source": [
    "ori = '''\n",
    "selamat makan'''\n",
    "\n",
    "te = cv_nn.transform([clean(ori)])\n",
    "res = model_nn.predict(te)[0]\n",
    "\n",
    "print(ori)\n",
    "print('sentiment:', res)"
   ]
  },
  {
   "attachments": {},
   "cell_type": "markdown",
   "metadata": {},
   "source": [
    "## LSTM (Long-short Term Memory)"
   ]
  },
  {
   "attachments": {},
   "cell_type": "markdown",
   "metadata": {},
   "source": [
    "### Feature Extraction LSTM"
   ]
  },
  {
   "cell_type": "code",
   "execution_count": 105,
   "metadata": {},
   "outputs": [],
   "source": [
    "neg = trainn.loc[trainn.Sentiment == 'negative'].Clean.tolist()\n",
    "neu = trainn.loc[trainn.Sentiment == 'neutral'].Clean.tolist()\n",
    "pos = trainn.loc[trainn.Sentiment == 'positive'].Clean.tolist()\n",
    "\n",
    "neg_sntmnt = trainn.loc[trainn.Sentiment == 'negative'].Sentiment.tolist()\n",
    "neu_sntmnt = trainn.loc[trainn.Sentiment == 'neutral'].Sentiment.tolist()\n",
    "pos_sntmnt = trainn.loc[trainn.Sentiment == 'positive'].Sentiment.tolist()"
   ]
  },
  {
   "cell_type": "code",
   "execution_count": 106,
   "metadata": {},
   "outputs": [
    {
     "name": "stdout",
     "output_type": "stream",
     "text": [
      "Pos: 6354, Neu: 1136, Neg: 3404\n",
      "Total data: 10894\n"
     ]
    }
   ],
   "source": [
    "total_data = pos + neu + neg\n",
    "labels = pos_sntmnt + neu_sntmnt + neg_sntmnt\n",
    "\n",
    "print(\"Pos: %s, Neu: %s, Neg: %s\" % (len(pos), len(neu), len(neg)))\n",
    "print(\"Total data: %s\" % len(total_data))"
   ]
  },
  {
   "cell_type": "code",
   "execution_count": 127,
   "metadata": {},
   "outputs": [
    {
     "name": "stdout",
     "output_type": "stream",
     "text": [
      "tokenizer.pickle has created!\n",
      "x_pad_sequences.pickle has created!\n"
     ]
    }
   ],
   "source": [
    "max_features = 50000\n",
    "tokenizer = Tokenizer(num_words=max_features, split=' ', lower=True)\n",
    "tokenizer.fit_on_texts(total_data)\n",
    "with open('asset/feature/tokenizer.pickle', 'wb') as handle:\n",
    "    pickle.dump(tokenizer, handle, protocol=pickle.HIGHEST_PROTOCOL)\n",
    "    print(\"tokenizer.pickle has created!\")\n",
    "\n",
    "X = tokenizer.texts_to_sequences(total_data)\n",
    "\n",
    "vocab_size = len(tokenizer.word_index)\n",
    "maxlen = max(len(x) for x in X)\n",
    "\n",
    "X = pad_sequences(X)\n",
    "with open('asset/feature/x_pad_sequences.pickle', 'wb') as handle:\n",
    "    pickle.dump(X, handle, protocol=pickle.HIGHEST_PROTOCOL)\n",
    "    print(\"x_pad_sequences.pickle has created!\")"
   ]
  },
  {
   "cell_type": "code",
   "execution_count": 128,
   "metadata": {},
   "outputs": [
    {
     "name": "stdout",
     "output_type": "stream",
     "text": [
      "y_labels.pickle has created!\n"
     ]
    }
   ],
   "source": [
    "Y = pd.get_dummies(labels)\n",
    "Y = Y.values\n",
    "\n",
    "with open('asset/feature/y_labels.pickle', 'wb') as handle:\n",
    "    pickle.dump(Y, handle, protocol=pickle.HIGHEST_PROTOCOL)\n",
    "    print(\"y_labels.pickle has created!\")"
   ]
  },
  {
   "attachments": {},
   "cell_type": "markdown",
   "metadata": {},
   "source": [
    "### Train Model LSTM"
   ]
  },
  {
   "cell_type": "code",
   "execution_count": 129,
   "metadata": {},
   "outputs": [],
   "source": [
    "file = open(\"asset/feature/x_pad_sequences.pickle\",'rb')\n",
    "X = pickle.load(file)\n",
    "file.close()\n",
    "\n",
    "file = open(\"asset/feature/y_labels.pickle\",'rb')\n",
    "Y = pickle.load(file)\n",
    "file.close()\n",
    "\n",
    "X_train, X_test, y_train, y_test = train_test_split(X, Y, test_size=0.2, random_state=1)"
   ]
  },
  {
   "cell_type": "code",
   "execution_count": 138,
   "metadata": {},
   "outputs": [
    {
     "name": "stdout",
     "output_type": "stream",
     "text": [
      "Model: \"sequential_19\"\n",
      "_________________________________________________________________\n",
      " Layer (type)                Output Shape              Param #   \n",
      "=================================================================\n",
      " embedding_19 (Embedding)    (None, 46, 100)           5000000   \n",
      "                                                                 \n",
      " lstm_19 (LSTM)              (None, 128)               117248    \n",
      "                                                                 \n",
      " dense_19 (Dense)            (None, 3)                 387       \n",
      "                                                                 \n",
      "=================================================================\n",
      "Total params: 5,117,635\n",
      "Trainable params: 5,117,635\n",
      "Non-trainable params: 0\n",
      "_________________________________________________________________\n"
     ]
    },
    {
     "name": "stderr",
     "output_type": "stream",
     "text": [
      "c:\\Users\\BAV USER\\Python\\lib\\site-packages\\keras\\optimizers\\legacy\\adam.py:117: UserWarning: The `lr` argument is deprecated, use `learning_rate` instead.\n",
      "  super().__init__(name, **kwargs)\n"
     ]
    },
    {
     "name": "stdout",
     "output_type": "stream",
     "text": [
      "None\n",
      "Epoch 1/50\n",
      "137/137 [==============================] - 34s 215ms/step - loss: 0.7465 - accuracy: 0.7378 - val_loss: 0.5621 - val_accuracy: 0.7921\n",
      "Epoch 2/50\n",
      "137/137 [==============================] - 27s 200ms/step - loss: 0.3856 - accuracy: 0.8709 - val_loss: 0.4432 - val_accuracy: 0.8495\n",
      "Epoch 3/50\n",
      "137/137 [==============================] - 29s 213ms/step - loss: 0.2342 - accuracy: 0.9277 - val_loss: 0.5032 - val_accuracy: 0.8320\n",
      "Epoch 4/50\n",
      "137/137 [==============================] - 30s 220ms/step - loss: 0.1662 - accuracy: 0.9508 - val_loss: 0.5684 - val_accuracy: 0.8408\n",
      "Epoch 5/50\n",
      "137/137 [==============================] - 29s 208ms/step - loss: 0.1236 - accuracy: 0.9631 - val_loss: 0.5660 - val_accuracy: 0.8178\n",
      "Epoch 6/50\n",
      "137/137 [==============================] - 30s 219ms/step - loss: 0.1073 - accuracy: 0.9694 - val_loss: 0.7038 - val_accuracy: 0.8031\n",
      "Epoch 7/50\n",
      "137/137 [==============================] - 29s 214ms/step - loss: 0.1133 - accuracy: 0.9678 - val_loss: 0.6817 - val_accuracy: 0.8086\n",
      "Epoch 7: early stopping\n"
     ]
    }
   ],
   "source": [
    "embed_dim = 100\n",
    "units = 64\n",
    "\n",
    "model = Sequential()\n",
    "model.add(Embedding(max_features, embed_dim, input_length=X.shape[1]))\n",
    "model.add(LSTM(128, dropout=0.1, recurrent_dropout=0.1, kernel_regularizer=regularizers.l2(0.002)))\n",
    "model.add(Dense(3,activation='softmax'))\n",
    "\n",
    "adam = optimizers.Adam(lr = 0.001)\n",
    "model.compile(loss = 'categorical_crossentropy', optimizer = adam, metrics = ['accuracy'])\n",
    "print(model.summary())\n",
    "\n",
    "es = EarlyStopping(monitor='val_loss', mode='min', verbose=1, patience=5)\n",
    "history = model.fit(X_train, y_train, epochs=50, batch_size=64, validation_data=(X_test, y_test), verbose=1, callbacks=[es])"
   ]
  },
  {
   "attachments": {},
   "cell_type": "markdown",
   "metadata": {},
   "source": [
    "### Evaluation LSTM"
   ]
  },
  {
   "cell_type": "code",
   "execution_count": 139,
   "metadata": {},
   "outputs": [
    {
     "name": "stdout",
     "output_type": "stream",
     "text": [
      "69/69 [==============================] - 2s 16ms/step\n",
      "Testing selesai\n",
      "              precision    recall  f1-score   support\n",
      "\n",
      "           0       0.73      0.78      0.75       685\n",
      "           1       0.77      0.56      0.65       235\n",
      "           2       0.86      0.87      0.87      1259\n",
      "\n",
      "    accuracy                           0.81      2179\n",
      "   macro avg       0.78      0.74      0.75      2179\n",
      "weighted avg       0.81      0.81      0.81      2179\n",
      "\n"
     ]
    }
   ],
   "source": [
    "predictions = model.predict(X_test)\n",
    "y_pred = predictions\n",
    "y_pred_classes = np.argmax(y_pred, axis=1)\n",
    "Y_test_classes = np.argmax(y_test, axis=1)\n",
    "matrix_test = metrics.classification_report(Y_test_classes, y_pred_classes)\n",
    "print(\"Testing selesai\")\n",
    "print(matrix_test)"
   ]
  },
  {
   "cell_type": "code",
   "execution_count": 132,
   "metadata": {},
   "outputs": [
    {
     "data": {
      "image/png": "[encoded data removed]",
      "text/plain": [
       "<Figure size 640x480 with 2 Axes>"
      ]
     },
     "metadata": {},
     "output_type": "display_data"
    }
   ],
   "source": [
    "cm_LSTM = confusion_matrix(Y_test_classes, y_pred_classes)\n",
    "\n",
    "sns.heatmap(cm_LSTM, annot=True, cmap='Blues', fmt='g')\n",
    "plt.xlabel('Predicted labels')\n",
    "plt.ylabel('True labels')\n",
    "plt.show()"
   ]
  },
  {
   "cell_type": "code",
   "execution_count": 137,
   "metadata": {},
   "outputs": [
    {
     "name": "stderr",
     "output_type": "stream",
     "text": [
      "c:\\Users\\BAV USER\\Python\\lib\\site-packages\\keras\\optimizers\\legacy\\adam.py:117: UserWarning: The `lr` argument is deprecated, use `learning_rate` instead.\n",
      "  super().__init__(name, **kwargs)\n"
     ]
    },
    {
     "ename": "KeyboardInterrupt",
     "evalue": "",
     "output_type": "error",
     "traceback": [
      "\u001b[1;31m---------------------------------------------------------------------------\u001b[0m",
      "\u001b[1;31mKeyboardInterrupt\u001b[0m                         Traceback (most recent call last)",
      "Cell \u001b[1;32mIn[137], line 28\u001b[0m\n\u001b[0;32m     25\u001b[0m model\u001b[39m.\u001b[39mcompile(loss \u001b[39m=\u001b[39m \u001b[39m'\u001b[39m\u001b[39mcategorical_crossentropy\u001b[39m\u001b[39m'\u001b[39m, optimizer \u001b[39m=\u001b[39m adam, metrics \u001b[39m=\u001b[39m [\u001b[39m'\u001b[39m\u001b[39maccuracy\u001b[39m\u001b[39m'\u001b[39m])\n\u001b[0;32m     27\u001b[0m es \u001b[39m=\u001b[39m EarlyStopping(monitor\u001b[39m=\u001b[39m\u001b[39m'\u001b[39m\u001b[39mval_loss\u001b[39m\u001b[39m'\u001b[39m, mode\u001b[39m=\u001b[39m\u001b[39m'\u001b[39m\u001b[39mmin\u001b[39m\u001b[39m'\u001b[39m, verbose\u001b[39m=\u001b[39m\u001b[39m5\u001b[39m)\n\u001b[1;32m---> 28\u001b[0m history \u001b[39m=\u001b[39m model\u001b[39m.\u001b[39;49mfit(X_train, y_train, epochs\u001b[39m=\u001b[39;49m\u001b[39m10\u001b[39;49m, batch_size\u001b[39m=\u001b[39;49m\u001b[39m10\u001b[39;49m, validation_data\u001b[39m=\u001b[39;49m(X_test, y_test), verbose\u001b[39m=\u001b[39;49m\u001b[39m0\u001b[39;49m, callbacks\u001b[39m=\u001b[39;49m[es])\n\u001b[0;32m     30\u001b[0m predictions \u001b[39m=\u001b[39m model\u001b[39m.\u001b[39mpredict(X_test)\n\u001b[0;32m     31\u001b[0m y_pred \u001b[39m=\u001b[39m predictions\n",
      "File \u001b[1;32mc:\\Users\\BAV USER\\Python\\lib\\site-packages\\keras\\utils\\traceback_utils.py:65\u001b[0m, in \u001b[0;36mfilter_traceback.<locals>.error_handler\u001b[1;34m(*args, **kwargs)\u001b[0m\n\u001b[0;32m     63\u001b[0m filtered_tb \u001b[39m=\u001b[39m \u001b[39mNone\u001b[39;00m\n\u001b[0;32m     64\u001b[0m \u001b[39mtry\u001b[39;00m:\n\u001b[1;32m---> 65\u001b[0m     \u001b[39mreturn\u001b[39;00m fn(\u001b[39m*\u001b[39margs, \u001b[39m*\u001b[39m\u001b[39m*\u001b[39mkwargs)\n\u001b[0;32m     66\u001b[0m \u001b[39mexcept\u001b[39;00m \u001b[39mException\u001b[39;00m \u001b[39mas\u001b[39;00m e:\n\u001b[0;32m     67\u001b[0m     filtered_tb \u001b[39m=\u001b[39m _process_traceback_frames(e\u001b[39m.\u001b[39m__traceback__)\n",
      "File \u001b[1;32mc:\\Users\\BAV USER\\Python\\lib\\site-packages\\keras\\engine\\training.py:1685\u001b[0m, in \u001b[0;36mModel.fit\u001b[1;34m(self, x, y, batch_size, epochs, verbose, callbacks, validation_split, validation_data, shuffle, class_weight, sample_weight, initial_epoch, steps_per_epoch, validation_steps, validation_batch_size, validation_freq, max_queue_size, workers, use_multiprocessing)\u001b[0m\n\u001b[0;32m   1677\u001b[0m \u001b[39mwith\u001b[39;00m tf\u001b[39m.\u001b[39mprofiler\u001b[39m.\u001b[39mexperimental\u001b[39m.\u001b[39mTrace(\n\u001b[0;32m   1678\u001b[0m     \u001b[39m\"\u001b[39m\u001b[39mtrain\u001b[39m\u001b[39m\"\u001b[39m,\n\u001b[0;32m   1679\u001b[0m     epoch_num\u001b[39m=\u001b[39mepoch,\n\u001b[1;32m   (...)\u001b[0m\n\u001b[0;32m   1682\u001b[0m     _r\u001b[39m=\u001b[39m\u001b[39m1\u001b[39m,\n\u001b[0;32m   1683\u001b[0m ):\n\u001b[0;32m   1684\u001b[0m     callbacks\u001b[39m.\u001b[39mon_train_batch_begin(step)\n\u001b[1;32m-> 1685\u001b[0m     tmp_logs \u001b[39m=\u001b[39m \u001b[39mself\u001b[39;49m\u001b[39m.\u001b[39;49mtrain_function(iterator)\n\u001b[0;32m   1686\u001b[0m     \u001b[39mif\u001b[39;00m data_handler\u001b[39m.\u001b[39mshould_sync:\n\u001b[0;32m   1687\u001b[0m         context\u001b[39m.\u001b[39masync_wait()\n",
      "File \u001b[1;32mc:\\Users\\BAV USER\\Python\\lib\\site-packages\\tensorflow\\python\\util\\traceback_utils.py:150\u001b[0m, in \u001b[0;36mfilter_traceback.<locals>.error_handler\u001b[1;34m(*args, **kwargs)\u001b[0m\n\u001b[0;32m    148\u001b[0m filtered_tb \u001b[39m=\u001b[39m \u001b[39mNone\u001b[39;00m\n\u001b[0;32m    149\u001b[0m \u001b[39mtry\u001b[39;00m:\n\u001b[1;32m--> 150\u001b[0m   \u001b[39mreturn\u001b[39;00m fn(\u001b[39m*\u001b[39margs, \u001b[39m*\u001b[39m\u001b[39m*\u001b[39mkwargs)\n\u001b[0;32m    151\u001b[0m \u001b[39mexcept\u001b[39;00m \u001b[39mException\u001b[39;00m \u001b[39mas\u001b[39;00m e:\n\u001b[0;32m    152\u001b[0m   filtered_tb \u001b[39m=\u001b[39m _process_traceback_frames(e\u001b[39m.\u001b[39m__traceback__)\n",
      "File \u001b[1;32mc:\\Users\\BAV USER\\Python\\lib\\site-packages\\tensorflow\\python\\eager\\polymorphic_function\\polymorphic_function.py:894\u001b[0m, in \u001b[0;36mFunction.__call__\u001b[1;34m(self, *args, **kwds)\u001b[0m\n\u001b[0;32m    891\u001b[0m compiler \u001b[39m=\u001b[39m \u001b[39m\"\u001b[39m\u001b[39mxla\u001b[39m\u001b[39m\"\u001b[39m \u001b[39mif\u001b[39;00m \u001b[39mself\u001b[39m\u001b[39m.\u001b[39m_jit_compile \u001b[39melse\u001b[39;00m \u001b[39m\"\u001b[39m\u001b[39mnonXla\u001b[39m\u001b[39m\"\u001b[39m\n\u001b[0;32m    893\u001b[0m \u001b[39mwith\u001b[39;00m OptionalXlaContext(\u001b[39mself\u001b[39m\u001b[39m.\u001b[39m_jit_compile):\n\u001b[1;32m--> 894\u001b[0m   result \u001b[39m=\u001b[39m \u001b[39mself\u001b[39m\u001b[39m.\u001b[39m_call(\u001b[39m*\u001b[39margs, \u001b[39m*\u001b[39m\u001b[39m*\u001b[39mkwds)\n\u001b[0;32m    896\u001b[0m new_tracing_count \u001b[39m=\u001b[39m \u001b[39mself\u001b[39m\u001b[39m.\u001b[39mexperimental_get_tracing_count()\n\u001b[0;32m    897\u001b[0m without_tracing \u001b[39m=\u001b[39m (tracing_count \u001b[39m==\u001b[39m new_tracing_count)\n",
      "File \u001b[1;32mc:\\Users\\BAV USER\\Python\\lib\\site-packages\\tensorflow\\python\\eager\\polymorphic_function\\polymorphic_function.py:926\u001b[0m, in \u001b[0;36mFunction._call\u001b[1;34m(self, *args, **kwds)\u001b[0m\n\u001b[0;32m    923\u001b[0m   \u001b[39mself\u001b[39m\u001b[39m.\u001b[39m_lock\u001b[39m.\u001b[39mrelease()\n\u001b[0;32m    924\u001b[0m   \u001b[39m# In this case we have created variables on the first call, so we run the\u001b[39;00m\n\u001b[0;32m    925\u001b[0m   \u001b[39m# defunned version which is guaranteed to never create variables.\u001b[39;00m\n\u001b[1;32m--> 926\u001b[0m   \u001b[39mreturn\u001b[39;00m \u001b[39mself\u001b[39m\u001b[39m.\u001b[39m_no_variable_creation_fn(\u001b[39m*\u001b[39margs, \u001b[39m*\u001b[39m\u001b[39m*\u001b[39mkwds)  \u001b[39m# pylint: disable=not-callable\u001b[39;00m\n\u001b[0;32m    927\u001b[0m \u001b[39melif\u001b[39;00m \u001b[39mself\u001b[39m\u001b[39m.\u001b[39m_variable_creation_fn \u001b[39mis\u001b[39;00m \u001b[39mnot\u001b[39;00m \u001b[39mNone\u001b[39;00m:\n\u001b[0;32m    928\u001b[0m   \u001b[39m# Release the lock early so that multiple threads can perform the call\u001b[39;00m\n\u001b[0;32m    929\u001b[0m   \u001b[39m# in parallel.\u001b[39;00m\n\u001b[0;32m    930\u001b[0m   \u001b[39mself\u001b[39m\u001b[39m.\u001b[39m_lock\u001b[39m.\u001b[39mrelease()\n",
      "File \u001b[1;32mc:\\Users\\BAV USER\\Python\\lib\\site-packages\\tensorflow\\python\\eager\\polymorphic_function\\tracing_compiler.py:143\u001b[0m, in \u001b[0;36mTracingCompiler.__call__\u001b[1;34m(self, *args, **kwargs)\u001b[0m\n\u001b[0;32m    140\u001b[0m \u001b[39mwith\u001b[39;00m \u001b[39mself\u001b[39m\u001b[39m.\u001b[39m_lock:\n\u001b[0;32m    141\u001b[0m   (concrete_function,\n\u001b[0;32m    142\u001b[0m    filtered_flat_args) \u001b[39m=\u001b[39m \u001b[39mself\u001b[39m\u001b[39m.\u001b[39m_maybe_define_function(args, kwargs)\n\u001b[1;32m--> 143\u001b[0m \u001b[39mreturn\u001b[39;00m concrete_function\u001b[39m.\u001b[39;49m_call_flat(\n\u001b[0;32m    144\u001b[0m     filtered_flat_args, captured_inputs\u001b[39m=\u001b[39;49mconcrete_function\u001b[39m.\u001b[39;49mcaptured_inputs)\n",
      "File \u001b[1;32mc:\\Users\\BAV USER\\Python\\lib\\site-packages\\tensorflow\\python\\eager\\polymorphic_function\\monomorphic_function.py:1757\u001b[0m, in \u001b[0;36mConcreteFunction._call_flat\u001b[1;34m(self, args, captured_inputs, cancellation_manager)\u001b[0m\n\u001b[0;32m   1753\u001b[0m possible_gradient_type \u001b[39m=\u001b[39m gradients_util\u001b[39m.\u001b[39mPossibleTapeGradientTypes(args)\n\u001b[0;32m   1754\u001b[0m \u001b[39mif\u001b[39;00m (possible_gradient_type \u001b[39m==\u001b[39m gradients_util\u001b[39m.\u001b[39mPOSSIBLE_GRADIENT_TYPES_NONE\n\u001b[0;32m   1755\u001b[0m     \u001b[39mand\u001b[39;00m executing_eagerly):\n\u001b[0;32m   1756\u001b[0m   \u001b[39m# No tape is watching; skip to running the function.\u001b[39;00m\n\u001b[1;32m-> 1757\u001b[0m   \u001b[39mreturn\u001b[39;00m \u001b[39mself\u001b[39m\u001b[39m.\u001b[39m_build_call_outputs(\u001b[39mself\u001b[39;49m\u001b[39m.\u001b[39;49m_inference_function\u001b[39m.\u001b[39;49mcall(\n\u001b[0;32m   1758\u001b[0m       ctx, args, cancellation_manager\u001b[39m=\u001b[39;49mcancellation_manager))\n\u001b[0;32m   1759\u001b[0m forward_backward \u001b[39m=\u001b[39m \u001b[39mself\u001b[39m\u001b[39m.\u001b[39m_select_forward_and_backward_functions(\n\u001b[0;32m   1760\u001b[0m     args,\n\u001b[0;32m   1761\u001b[0m     possible_gradient_type,\n\u001b[0;32m   1762\u001b[0m     executing_eagerly)\n\u001b[0;32m   1763\u001b[0m forward_function, args_with_tangents \u001b[39m=\u001b[39m forward_backward\u001b[39m.\u001b[39mforward()\n",
      "File \u001b[1;32mc:\\Users\\BAV USER\\Python\\lib\\site-packages\\tensorflow\\python\\eager\\polymorphic_function\\monomorphic_function.py:381\u001b[0m, in \u001b[0;36m_EagerDefinedFunction.call\u001b[1;34m(self, ctx, args, cancellation_manager)\u001b[0m\n\u001b[0;32m    379\u001b[0m \u001b[39mwith\u001b[39;00m _InterpolateFunctionError(\u001b[39mself\u001b[39m):\n\u001b[0;32m    380\u001b[0m   \u001b[39mif\u001b[39;00m cancellation_manager \u001b[39mis\u001b[39;00m \u001b[39mNone\u001b[39;00m:\n\u001b[1;32m--> 381\u001b[0m     outputs \u001b[39m=\u001b[39m execute\u001b[39m.\u001b[39;49mexecute(\n\u001b[0;32m    382\u001b[0m         \u001b[39mstr\u001b[39;49m(\u001b[39mself\u001b[39;49m\u001b[39m.\u001b[39;49msignature\u001b[39m.\u001b[39;49mname),\n\u001b[0;32m    383\u001b[0m         num_outputs\u001b[39m=\u001b[39;49m\u001b[39mself\u001b[39;49m\u001b[39m.\u001b[39;49m_num_outputs,\n\u001b[0;32m    384\u001b[0m         inputs\u001b[39m=\u001b[39;49margs,\n\u001b[0;32m    385\u001b[0m         attrs\u001b[39m=\u001b[39;49mattrs,\n\u001b[0;32m    386\u001b[0m         ctx\u001b[39m=\u001b[39;49mctx)\n\u001b[0;32m    387\u001b[0m   \u001b[39melse\u001b[39;00m:\n\u001b[0;32m    388\u001b[0m     outputs \u001b[39m=\u001b[39m execute\u001b[39m.\u001b[39mexecute_with_cancellation(\n\u001b[0;32m    389\u001b[0m         \u001b[39mstr\u001b[39m(\u001b[39mself\u001b[39m\u001b[39m.\u001b[39msignature\u001b[39m.\u001b[39mname),\n\u001b[0;32m    390\u001b[0m         num_outputs\u001b[39m=\u001b[39m\u001b[39mself\u001b[39m\u001b[39m.\u001b[39m_num_outputs,\n\u001b[1;32m   (...)\u001b[0m\n\u001b[0;32m    393\u001b[0m         ctx\u001b[39m=\u001b[39mctx,\n\u001b[0;32m    394\u001b[0m         cancellation_manager\u001b[39m=\u001b[39mcancellation_manager)\n",
      "File \u001b[1;32mc:\\Users\\BAV USER\\Python\\lib\\site-packages\\tensorflow\\python\\eager\\execute.py:52\u001b[0m, in \u001b[0;36mquick_execute\u001b[1;34m(op_name, num_outputs, inputs, attrs, ctx, name)\u001b[0m\n\u001b[0;32m     50\u001b[0m \u001b[39mtry\u001b[39;00m:\n\u001b[0;32m     51\u001b[0m   ctx\u001b[39m.\u001b[39mensure_initialized()\n\u001b[1;32m---> 52\u001b[0m   tensors \u001b[39m=\u001b[39m pywrap_tfe\u001b[39m.\u001b[39;49mTFE_Py_Execute(ctx\u001b[39m.\u001b[39;49m_handle, device_name, op_name,\n\u001b[0;32m     53\u001b[0m                                       inputs, attrs, num_outputs)\n\u001b[0;32m     54\u001b[0m \u001b[39mexcept\u001b[39;00m core\u001b[39m.\u001b[39m_NotOkStatusException \u001b[39mas\u001b[39;00m e:\n\u001b[0;32m     55\u001b[0m   \u001b[39mif\u001b[39;00m name \u001b[39mis\u001b[39;00m \u001b[39mnot\u001b[39;00m \u001b[39mNone\u001b[39;00m:\n",
      "\u001b[1;31mKeyboardInterrupt\u001b[0m: "
     ]
    }
   ],
   "source": [
    "kf = KFold(n_splits=5,random_state=42,shuffle=True)\n",
    "\n",
    "accuracies = []\n",
    "\n",
    "y = Y\n",
    "\n",
    "embed_dim = 100\n",
    "units = 64\n",
    "\n",
    "for iteration, data in enumerate(kf.split(X), start=1):\n",
    "\n",
    "    data_train   = X[data[0]]\n",
    "    target_train = y[data[0]]\n",
    "\n",
    "    data_test    = X[data[1]]\n",
    "    target_test  = y[data[1]]\n",
    "\n",
    "\n",
    "    model = Sequential()\n",
    "    model.add(Embedding(max_features, embed_dim, input_length=X.shape[1]))\n",
    "    model.add(LSTM(units, dropout=0.2))\n",
    "    model.add(Dense(3,activation='softmax'))\n",
    "\n",
    "    adam = optimizers.Adam(lr = 0.001)\n",
    "    model.compile(loss = 'categorical_crossentropy', optimizer = adam, metrics = ['accuracy'])\n",
    "\n",
    "    es = EarlyStopping(monitor='val_loss', mode='min', verbose=0, patience=5)\n",
    "    history = model.fit(X_train, y_train, epochs=10, batch_size=10, validation_data=(X_test, y_test), verbose=0, callbacks=[es])\n",
    "\n",
    "    predictions = model.predict(X_test)\n",
    "    y_pred = predictions\n",
    "\n",
    "    # for the current fold only    \n",
    "    accuracy = accuracy_score(y_test.argmax(axis=1), y_pred.argmax(axis=1))\n",
    "\n",
    "    print(\"Training ke-\", iteration)\n",
    "    print(classification_report(y_test.argmax(axis=1), y_pred.argmax(axis=1)))\n",
    "    print(\"======================================================\")\n",
    "\n",
    "    accuracies.append(accuracy)\n",
    "\n",
    "# this is the average accuracy over all folds\n",
    "average_accuracy = np.mean(accuracies)\n",
    "\n",
    "print()\n",
    "print()\n",
    "print()\n",
    "print(\"Rata-rata Accuracy: \", average_accuracy *100)"
   ]
  },
  {
   "cell_type": "code",
   "execution_count": 134,
   "metadata": {},
   "outputs": [
    {
     "data": {
      "image/png": "[encoded data removed]",
      "text/plain": [
       "<Figure size 1200x500 with 2 Axes>"
      ]
     },
     "metadata": {},
     "output_type": "display_data"
    }
   ],
   "source": [
    "# history.history\n",
    "import matplotlib.pyplot as plt\n",
    "plt.style.use('ggplot')\n",
    "\n",
    "def plot_history(history):\n",
    "    acc = history.history['accuracy']\n",
    "    val_acc = history.history['val_accuracy']\n",
    "    loss = history.history['loss']\n",
    "    val_loss = history.history['val_loss']\n",
    "    x = range(1, len(acc) + 1)\n",
    "\n",
    "    plt.figure(figsize=(12, 5))\n",
    "    plt.subplot(1, 2, 1)\n",
    "    plt.plot(x, acc, 'b', label='Training acc')\n",
    "    plt.plot(x, val_acc, 'r', label='Validation acc')\n",
    "    plt.title('Training and validation accuracy')\n",
    "    plt.legend()\n",
    "    plt.subplot(1, 2, 2)\n",
    "    plt.plot(x, loss, 'b', label='Training loss')\n",
    "    plt.plot(x, val_loss, 'r', label='Validation loss')\n",
    "    plt.title('Training and validation loss')\n",
    "    plt.legend()\n",
    "\n",
    "%matplotlib inline\n",
    "plot_history(history)"
   ]
  },
  {
   "cell_type": "code",
   "execution_count": 135,
   "metadata": {},
   "outputs": [
    {
     "name": "stdout",
     "output_type": "stream",
     "text": [
      "Model has created!\n"
     ]
    }
   ],
   "source": [
    "model.save('asset/model/model_lstm.h5')\n",
    "print(\"Model has created!\")"
   ]
  },
  {
   "attachments": {},
   "cell_type": "markdown",
   "metadata": {},
   "source": [
    "### Predict Test LSTM"
   ]
  },
  {
   "cell_type": "code",
   "execution_count": 136,
   "metadata": {},
   "outputs": [
    {
     "name": "stdout",
     "output_type": "stream",
     "text": [
      "1/1 [==============================] - 1s 1s/step\n",
      "Text:  selamat malam\n",
      "Sentiment:  neutral\n"
     ]
    }
   ],
   "source": [
    "input_text = \"\"\"\n",
    "selamat malam semua\"\"\"\n",
    "\n",
    "sentiment = ['negative', 'neutral', 'positive']\n",
    "\n",
    "text = [clean(input_text)]\n",
    "predicted = tokenizer.texts_to_sequences(text)\n",
    "guess = pad_sequences(predicted, maxlen=X.shape[1])\n",
    "\n",
    "model_lstm = load_model('asset/model/model_lstm.h5')\n",
    "prediction = model_lstm.predict(guess)\n",
    "polarity = np.argmax(prediction[0])\n",
    "\n",
    "print(\"Text: \",text[0])\n",
    "print(\"Sentiment: \",sentiment[polarity])"
   ]
  }
 ],
 "metadata": {
  "kernelspec": {
   "display_name": "Python 3",
   "language": "python",
   "name": "python3"
  },
  "language_info": {
   "codemirror_mode": {
    "name": "ipython",
    "version": 3
   },
   "file_extension": ".py",
   "mimetype": "text/x-python",
   "name": "python",
   "nbconvert_exporter": "python",
   "pygments_lexer": "ipython3",
   "version": "3.9.13"
  },
  "orig_nbformat": 4
 },
 "nbformat": 4,
 "nbformat_minor": 2
}
