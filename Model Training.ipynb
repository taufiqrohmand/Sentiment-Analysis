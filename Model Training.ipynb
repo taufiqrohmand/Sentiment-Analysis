{
 "cells": [
  {
   "cell_type": "code",
   "execution_count": 1,
   "metadata": {},
   "outputs": [],
   "source": [
    "#import modul/library\n",
    "import pandas as pd\n",
    "import numpy as np\n",
    "import seaborn as sns\n",
    "import matplotlib.pyplot as plt\n",
    "import pickle\n",
    "import nltk\n",
    "\n",
    "from sklearn.feature_extraction.text import CountVectorizer\n",
    "from sklearn.model_selection import train_test_split, KFold\n",
    "from sklearn.neural_network import MLPClassifier\n",
    "from sklearn.metrics import classification_report, accuracy_score, confusion_matrix\n",
    "from keras.preprocessing.text import Tokenizer\n",
    "from keras.utils import pad_sequences\n",
    "from keras import layers, optimizers\n",
    "from keras.models import Sequential, load_model\n",
    "from keras.layers import Dense, Embedding, LSTM, SpatialDropout1D, SimpleRNN, Activation, Flatten\n",
    "from keras.callbacks import EarlyStopping, TensorBoard\n",
    "from keras import backend as K\n",
    "from keras import regularizers\n",
    "from keras.regularizers import L2, L1L2, L1\n",
    "from collections import defaultdict\n",
    "from sklearn import metrics\n",
    "from nltk.tokenize import word_tokenize\n",
    "\n",
    "from Cleansing import clean"
   ]
  },
  {
   "attachments": {},
   "cell_type": "markdown",
   "metadata": {},
   "source": [
    "## EDA & Pre Processing"
   ]
  },
  {
   "cell_type": "code",
   "execution_count": 2,
   "metadata": {},
   "outputs": [
    {
     "data": {
      "text/html": [
       "<div>\n",
       "<style scoped>\n",
       "    .dataframe tbody tr th:only-of-type {\n",
       "        vertical-align: middle;\n",
       "    }\n",
       "\n",
       "    .dataframe tbody tr th {\n",
       "        vertical-align: top;\n",
       "    }\n",
       "\n",
       "    .dataframe thead th {\n",
       "        text-align: right;\n",
       "    }\n",
       "</style>\n",
       "<table border=\"1\" class=\"dataframe\">\n",
       "  <thead>\n",
       "    <tr style=\"text-align: right;\">\n",
       "      <th></th>\n",
       "      <th>Kalimat</th>\n",
       "      <th>Sentiment</th>\n",
       "    </tr>\n",
       "  </thead>\n",
       "  <tbody>\n",
       "    <tr>\n",
       "      <th>0</th>\n",
       "      <td>warung ini dimiliki oleh pengusaha pabrik tahu...</td>\n",
       "      <td>positive</td>\n",
       "    </tr>\n",
       "    <tr>\n",
       "      <th>1</th>\n",
       "      <td>mohon ulama lurus dan k212 mmbri hujjah partai...</td>\n",
       "      <td>neutral</td>\n",
       "    </tr>\n",
       "    <tr>\n",
       "      <th>2</th>\n",
       "      <td>lokasi strategis di jalan sumatera bandung . t...</td>\n",
       "      <td>positive</td>\n",
       "    </tr>\n",
       "    <tr>\n",
       "      <th>3</th>\n",
       "      <td>betapa bahagia nya diri ini saat unboxing pake...</td>\n",
       "      <td>positive</td>\n",
       "    </tr>\n",
       "    <tr>\n",
       "      <th>4</th>\n",
       "      <td>duh . jadi mahasiswa jangan sombong dong . kas...</td>\n",
       "      <td>negative</td>\n",
       "    </tr>\n",
       "  </tbody>\n",
       "</table>\n",
       "</div>"
      ],
      "text/plain": [
       "                                             Kalimat Sentiment\n",
       "0  warung ini dimiliki oleh pengusaha pabrik tahu...  positive\n",
       "1  mohon ulama lurus dan k212 mmbri hujjah partai...   neutral\n",
       "2  lokasi strategis di jalan sumatera bandung . t...  positive\n",
       "3  betapa bahagia nya diri ini saat unboxing pake...  positive\n",
       "4  duh . jadi mahasiswa jangan sombong dong . kas...  negative"
      ]
     },
     "execution_count": 2,
     "metadata": {},
     "output_type": "execute_result"
    }
   ],
   "source": [
    "#read data training\n",
    "trains = pd.read_csv(\"dataset/train_preprocess.tsv.txt\", sep='\\t', names=['Kalimat','Sentiment'])\n",
    "trains.head()"
   ]
  },
  {
   "cell_type": "code",
   "execution_count": 3,
   "metadata": {},
   "outputs": [
    {
     "data": {
      "text/plain": [
       "(11000, 2)"
      ]
     },
     "execution_count": 3,
     "metadata": {},
     "output_type": "execute_result"
    }
   ],
   "source": [
    "#check data volume\n",
    "trains.shape"
   ]
  },
  {
   "cell_type": "code",
   "execution_count": 4,
   "metadata": {},
   "outputs": [
    {
     "data": {
      "text/plain": [
       "Kalimat      0\n",
       "Sentiment    0\n",
       "dtype: int64"
      ]
     },
     "execution_count": 4,
     "metadata": {},
     "output_type": "execute_result"
    }
   ],
   "source": [
    "#check data null\n",
    "trains.isna().sum()"
   ]
  },
  {
   "cell_type": "code",
   "execution_count": 5,
   "metadata": {},
   "outputs": [
    {
     "data": {
      "text/plain": [
       "67"
      ]
     },
     "execution_count": 5,
     "metadata": {},
     "output_type": "execute_result"
    }
   ],
   "source": [
    "#check total data duplicated\n",
    "trains.duplicated().sum()"
   ]
  },
  {
   "cell_type": "code",
   "execution_count": 6,
   "metadata": {},
   "outputs": [],
   "source": [
    "#Remove data duplicated\n",
    "traints = trains.drop_duplicates(inplace=False, ignore_index=True)"
   ]
  },
  {
   "cell_type": "code",
   "execution_count": 7,
   "metadata": {},
   "outputs": [
    {
     "data": {
      "text/plain": [
       "(10933, 2)"
      ]
     },
     "execution_count": 7,
     "metadata": {},
     "output_type": "execute_result"
    }
   ],
   "source": [
    "#check data voulume after remove duplicated\n",
    "traints.shape"
   ]
  },
  {
   "cell_type": "code",
   "execution_count": 8,
   "metadata": {},
   "outputs": [
    {
     "data": {
      "text/plain": [
       "positive    6383\n",
       "negative    3412\n",
       "neutral     1138\n",
       "Name: Sentiment, dtype: int64"
      ]
     },
     "execution_count": 8,
     "metadata": {},
     "output_type": "execute_result"
    }
   ],
   "source": [
    "#check distribution label\n",
    "traints.Sentiment.value_counts()"
   ]
  },
  {
   "cell_type": "code",
   "execution_count": 9,
   "metadata": {},
   "outputs": [
    {
     "name": "stderr",
     "output_type": "stream",
     "text": [
      "C:\\Users\\BAV USER\\AppData\\Local\\Temp\\ipykernel_12836\\628772995.py:2: SettingWithCopyWarning: \n",
      "A value is trying to be set on a copy of a slice from a DataFrame.\n",
      "Try using .loc[row_indexer,col_indexer] = value instead\n",
      "\n",
      "See the caveats in the documentation: https://pandas.pydata.org/pandas-docs/stable/user_guide/indexing.html#returning-a-view-versus-a-copy\n",
      "  traints['Clean'] = traints.Kalimat.apply(clean)\n"
     ]
    },
    {
     "data": {
      "text/html": [
       "<div>\n",
       "<style scoped>\n",
       "    .dataframe tbody tr th:only-of-type {\n",
       "        vertical-align: middle;\n",
       "    }\n",
       "\n",
       "    .dataframe tbody tr th {\n",
       "        vertical-align: top;\n",
       "    }\n",
       "\n",
       "    .dataframe thead th {\n",
       "        text-align: right;\n",
       "    }\n",
       "</style>\n",
       "<table border=\"1\" class=\"dataframe\">\n",
       "  <thead>\n",
       "    <tr style=\"text-align: right;\">\n",
       "      <th></th>\n",
       "      <th>Kalimat</th>\n",
       "      <th>Sentiment</th>\n",
       "      <th>Clean</th>\n",
       "    </tr>\n",
       "  </thead>\n",
       "  <tbody>\n",
       "    <tr>\n",
       "      <th>0</th>\n",
       "      <td>warung ini dimiliki oleh pengusaha pabrik tahu...</td>\n",
       "      <td>positive</td>\n",
       "      <td>warung dimiliki pengusaha pabrik puluhan terke...</td>\n",
       "    </tr>\n",
       "    <tr>\n",
       "      <th>1</th>\n",
       "      <td>mohon ulama lurus dan k212 mmbri hujjah partai...</td>\n",
       "      <td>neutral</td>\n",
       "      <td>mohon ulama lurus k212 mmbri hujjah partai diw...</td>\n",
       "    </tr>\n",
       "    <tr>\n",
       "      <th>2</th>\n",
       "      <td>lokasi strategis di jalan sumatera bandung . t...</td>\n",
       "      <td>positive</td>\n",
       "      <td>lokasi strategis jalan sumatra bandung nya nya...</td>\n",
       "    </tr>\n",
       "    <tr>\n",
       "      <th>3</th>\n",
       "      <td>betapa bahagia nya diri ini saat unboxing pake...</td>\n",
       "      <td>positive</td>\n",
       "      <td>betapa bahagia nya unboxing paket barang nya b...</td>\n",
       "    </tr>\n",
       "    <tr>\n",
       "      <th>4</th>\n",
       "      <td>duh . jadi mahasiswa jangan sombong dong . kas...</td>\n",
       "      <td>negative</td>\n",
       "      <td>aduh mahasiswa sombong kasih kartu kuning bela...</td>\n",
       "    </tr>\n",
       "  </tbody>\n",
       "</table>\n",
       "</div>"
      ],
      "text/plain": [
       "                                             Kalimat Sentiment  \\\n",
       "0  warung ini dimiliki oleh pengusaha pabrik tahu...  positive   \n",
       "1  mohon ulama lurus dan k212 mmbri hujjah partai...   neutral   \n",
       "2  lokasi strategis di jalan sumatera bandung . t...  positive   \n",
       "3  betapa bahagia nya diri ini saat unboxing pake...  positive   \n",
       "4  duh . jadi mahasiswa jangan sombong dong . kas...  negative   \n",
       "\n",
       "                                               Clean  \n",
       "0  warung dimiliki pengusaha pabrik puluhan terke...  \n",
       "1  mohon ulama lurus k212 mmbri hujjah partai diw...  \n",
       "2  lokasi strategis jalan sumatra bandung nya nya...  \n",
       "3  betapa bahagia nya unboxing paket barang nya b...  \n",
       "4  aduh mahasiswa sombong kasih kartu kuning bela...  "
      ]
     },
     "execution_count": 9,
     "metadata": {},
     "output_type": "execute_result"
    }
   ],
   "source": [
    "#Clean data training\n",
    "traints['Clean'] = traints.Kalimat.apply(clean)\n",
    "traints.head()"
   ]
  },
  {
   "attachments": {},
   "cell_type": "markdown",
   "metadata": {},
   "source": [
    "### Outlier"
   ]
  },
  {
   "cell_type": "code",
   "execution_count": 10,
   "metadata": {},
   "outputs": [
    {
     "name": "stderr",
     "output_type": "stream",
     "text": [
      "C:\\Users\\BAV USER\\AppData\\Local\\Temp\\ipykernel_12836\\1741952076.py:1: SettingWithCopyWarning: \n",
      "A value is trying to be set on a copy of a slice from a DataFrame.\n",
      "Try using .loc[row_indexer,col_indexer] = value instead\n",
      "\n",
      "See the caveats in the documentation: https://pandas.pydata.org/pandas-docs/stable/user_guide/indexing.html#returning-a-view-versus-a-copy\n",
      "  traints['total_char'] = traints['Clean'].apply(len)\n",
      "C:\\Users\\BAV USER\\AppData\\Local\\Temp\\ipykernel_12836\\1741952076.py:2: SettingWithCopyWarning: \n",
      "A value is trying to be set on a copy of a slice from a DataFrame.\n",
      "Try using .loc[row_indexer,col_indexer] = value instead\n",
      "\n",
      "See the caveats in the documentation: https://pandas.pydata.org/pandas-docs/stable/user_guide/indexing.html#returning-a-view-versus-a-copy\n",
      "  traints['total_word'] = traints['Clean'].apply(lambda x: len(x.split()))\n"
     ]
    }
   ],
   "source": [
    "traints['total_char'] = traints['Clean'].apply(len)\n",
    "traints['total_word'] = traints['Clean'].apply(lambda x: len(x.split()))"
   ]
  },
  {
   "cell_type": "code",
   "execution_count": 11,
   "metadata": {},
   "outputs": [
    {
     "name": "stdout",
     "output_type": "stream",
     "text": [
      "                                                 Kalimat Sentiment  \\\n",
      "347    pertama kali mencoba ke richeese factory mingg...  positive   \n",
      "765    there was some gazebo atau bale-bale as the di...  positive   \n",
      "940    tadi pas makan malam saya ke sini , suasana re...  positive   \n",
      "1009   saya mendapat referensi dari teman saya mengen...  positive   \n",
      "1342   rekan saudara ku mca , mari viralkan untuk men...  negative   \n",
      "1421   restoran nya . suharti kini pecah kongsi menja...  positive   \n",
      "2053   senin sore saya ke restoran ini , kira jam 2 s...  positive   \n",
      "2236   suasana nya bagus alami seperti di desa banget...  negative   \n",
      "2788   tanggal 24 malam saya ke sini . alamat nya jal...  positive   \n",
      "2981   braga permai has been on jalan bragaweg sejak ...  positive   \n",
      "3633   lagi bingung cari tempat makan yang enak , asi...  positive   \n",
      "3948   resto ini mempunyai desain interior yang menar...  positive   \n",
      "4142   menu favorit saya kepiting saos singapore , ra...  positive   \n",
      "4285   sumbang saran buat pilgub jabar biar ramai : 1...   neutral   \n",
      "4297   kafe dengan suasana yang nyaman , bikin betah ...  positive   \n",
      "4478   ahok dipindah ke mako brimob dengan alasan sit...  negative   \n",
      "4541   halo kali ini saya akan mencoba makan di steak...  positive   \n",
      "4709   kondisi nya sepi tetapi makanan keluar nya lam...  negative   \n",
      "4748   sayur asam rasanya mantap , pas tidak terlalu ...  positive   \n",
      "4909   kebetulan baru merasakan yang dekat rumah . da...  positive   \n",
      "5554   waktu tanggal 26 juni , saya berkunjung ke sui...  positive   \n",
      "5734   calon tunggal pilkada papua : 10 parpol pemili...   neutral   \n",
      "6129   kami sekeluarga memesan steak angus rib eye te...  negative   \n",
      "6532   setiap kali ke banjar selalu mampir ke resto i...  positive   \n",
      "7208   resto yang menyajikan kuliner khas chinese yan...  positive   \n",
      "7289   ada tempat nama nya bebeke om aris , di jalan ...  positive   \n",
      "7323   restoran ini menyediakan masakan khas sunda tr...  positive   \n",
      "7617   posisi restoran ini cukup oke . pemandangan ko...  positive   \n",
      "8077   sepertinya ini satu-satunya mal terlengkap den...  positive   \n",
      "9115   the peak , lokasi nya cukup jauh dari pusat ko...  positive   \n",
      "9360   lokasi lontong medan kak zahra berlokasi di ja...  positive   \n",
      "9553   pertama masuk sini , sepi , art space nya juga...  positive   \n",
      "9607   jalan-jalan ke bandung , terus mau ke tangkuba...  positive   \n",
      "10167  beken banget di media sosial jadi penasaran ny...  negative   \n",
      "10257  hai pribumi-pribumi , para nasionalis sejati ,...  negative   \n",
      "10333  lokasi nya mudah dicapai , dari jalan banda se...  positive   \n",
      "10407  resto ini suasana nya cukup nyaman meskipun ra...  positive   \n",
      "10734  resto indonesian makanan di bandung yang 1 ini...  positive   \n",
      "10886  maaf pol cuma berani dengan ahok . dengan briz...  negative   \n",
      "\n",
      "                                                   Clean  total_char  \\\n",
      "347    kali mencoba richeese factory minggu 22 maret ...         261   \n",
      "765    there was some gazebo bale bale as the dining ...         272   \n",
      "940    pas makan malam suasana restoran nyaman banget...         302   \n",
      "1009   referensi teman ayam goreng nikmat kabar nya e...         288   \n",
      "1342   rekan saudara ku muslim cyber army mari viralk...         422   \n",
      "1421   restoran nya suharti pecah kongsi 2 restorant ...         336   \n",
      "2053   senin sore restoran jam 2 siang memesan kepiti...         333   \n",
      "2236   suasana nya bagus alami desa banget pinggir hu...         296   \n",
      "2788   tanggal 24 malam alamat nya jalan kebonjati 11...         428   \n",
      "2981   braga permai has been on jalan bragaweg 1923 f...         299   \n",
      "3633   bingung cari makan enak asyik murah iseng brow...         275   \n",
      "3948   resto desain interior menarik layanan nya ters...         303   \n",
      "4142   menu favorit kepiting saos singapura bawang pu...         317   \n",
      "4285   sumbang saran pilihan gubernur jabar biar rama...         302   \n",
      "4297   kafe suasana nyaman bikin betah berasa rumah a...         300   \n",
      "4478   ahok dipindah markas komando brigade mobil ala...         355   \n",
      "4541   halo kali mencoba makan steak bahan bakar miny...         303   \n",
      "4709   kondisi nya sepi makanan nya spaghetti 1 2 jam...         272   \n",
      "4748   sayur asam mantap pas asam 1 porsi harga sayur...         254   \n",
      "4909   merasakan rumah penasaran hit nya sambal nya e...         296   \n",
      "5554   tanggal 26 juni berkunjung suis butcher terlet...         344   \n",
      "5734   calon tunggal pilihan kepala daerah papua 10 p...         313   \n",
      "6129   sekeluarga memesan steak angus rib eye daging ...         328   \n",
      "6532   kali banjar mampir resto sih beli nasi liwet p...         303   \n",
      "7208   resto menyajikan kuliner khas cina enak bandun...         281   \n",
      "7289   nama nya bebeke om aris jalan dipatiukur gerba...         317   \n",
      "7323   restoran menyediakan masakan khas sunda tradis...         301   \n",
      "7617   posisi restoran oke pemandangan kota bandung s...         320   \n",
      "8077   satunya mal terlengkap barang barang bermerek ...         296   \n",
      "9115   the peak lokasi nya pusat kota bandung menelus...         340   \n",
      "9360   lokasi lontong medan kak zahra berlokasi jalan...         342   \n",
      "9553   masuk sepi a space nya menarik toko souvenir h...         316   \n",
      "9607   jalan jalan bandung tangkuban perahu pas bange...         292   \n",
      "10167  beken banget media sosial penasaran nyobian or...         327   \n",
      "10257  hai pribumi pribumi nasionalis sejati pencinta...         400   \n",
      "10333  lokasi nya mudah dicapai jalan banda sebelah h...         312   \n",
      "10407  resto suasana nya nyaman ramai jam makan terse...         295   \n",
      "10734  resto indonesia makanan bandung 1 bikin ketagi...         321   \n",
      "10886  maaf pol berani ahok brizik dipanggil 3 kali h...         315   \n",
      "\n",
      "       total_word  \n",
      "347            47  \n",
      "765            48  \n",
      "940            52  \n",
      "1009           47  \n",
      "1342           54  \n",
      "1421           50  \n",
      "2053           57  \n",
      "2236           50  \n",
      "2788           78  \n",
      "2981           47  \n",
      "3633           47  \n",
      "3948           48  \n",
      "4142           51  \n",
      "4285           47  \n",
      "4297           47  \n",
      "4478           52  \n",
      "4541           49  \n",
      "4709           49  \n",
      "4748           47  \n",
      "4909           50  \n",
      "5554           50  \n",
      "5734           53  \n",
      "6129           51  \n",
      "6532           50  \n",
      "7208           51  \n",
      "7289           52  \n",
      "7323           47  \n",
      "7617           50  \n",
      "8077           47  \n",
      "9115           51  \n",
      "9360           49  \n",
      "9553           51  \n",
      "9607           49  \n",
      "10167          54  \n",
      "10257          51  \n",
      "10333          49  \n",
      "10407          47  \n",
      "10734          52  \n",
      "10886          48  \n"
     ]
    }
   ],
   "source": [
    "Q1 = traints['total_word'].quantile(0.25)\n",
    "Q3 = traints['total_word'].quantile(0.75)\n",
    "\n",
    "# IQR\n",
    "IQR = Q3 - Q1\n",
    "\n",
    "# Menghitung batas bawah dan atas\n",
    "batas_bawah = Q1 - 1.5 * IQR\n",
    "batas_atas = Q3 + 1.5 * IQR\n",
    "\n",
    "# Mendeteksi outlier\n",
    "outlier = traints[(traints['total_word'] < batas_bawah) | (traints['total_word'] > batas_atas)]\n",
    "print(outlier)"
   ]
  },
  {
   "cell_type": "code",
   "execution_count": 12,
   "metadata": {},
   "outputs": [
    {
     "data": {
      "image/png": "[encoded data removed]",
      "text/plain": [
       "<Figure size 640x480 with 1 Axes>"
      ]
     },
     "metadata": {},
     "output_type": "display_data"
    }
   ],
   "source": [
    "traints.boxplot(column='total_word')\n",
    "plt.show()"
   ]
  },
  {
   "cell_type": "code",
   "execution_count": 13,
   "metadata": {},
   "outputs": [
    {
     "name": "stdout",
     "output_type": "stream",
     "text": [
      "Jumlah outlier: 39\n"
     ]
    }
   ],
   "source": [
    "jumlah_outlier = len(outlier)\n",
    "print(f\"Jumlah outlier: {jumlah_outlier}\")"
   ]
  },
  {
   "cell_type": "code",
   "execution_count": 14,
   "metadata": {},
   "outputs": [
    {
     "data": {
      "text/html": [
       "<div>\n",
       "<style scoped>\n",
       "    .dataframe tbody tr th:only-of-type {\n",
       "        vertical-align: middle;\n",
       "    }\n",
       "\n",
       "    .dataframe tbody tr th {\n",
       "        vertical-align: top;\n",
       "    }\n",
       "\n",
       "    .dataframe thead th {\n",
       "        text-align: right;\n",
       "    }\n",
       "</style>\n",
       "<table border=\"1\" class=\"dataframe\">\n",
       "  <thead>\n",
       "    <tr style=\"text-align: right;\">\n",
       "      <th></th>\n",
       "      <th>Kalimat</th>\n",
       "      <th>Sentiment</th>\n",
       "      <th>Clean</th>\n",
       "      <th>total_char</th>\n",
       "      <th>total_word</th>\n",
       "    </tr>\n",
       "  </thead>\n",
       "  <tbody>\n",
       "    <tr>\n",
       "      <th>10889</th>\n",
       "      <td>f - demokrat dorong upaya kemandirian energi n...</td>\n",
       "      <td>neutral</td>\n",
       "      <td>f demokrat dorong upaya kemandirian energi nas...</td>\n",
       "      <td>51</td>\n",
       "      <td>7</td>\n",
       "    </tr>\n",
       "    <tr>\n",
       "      <th>10890</th>\n",
       "      <td>tidak bosan</td>\n",
       "      <td>positive</td>\n",
       "      <td>bosan</td>\n",
       "      <td>5</td>\n",
       "      <td>1</td>\n",
       "    </tr>\n",
       "    <tr>\n",
       "      <th>10891</th>\n",
       "      <td>enak rasa masakan nya apalagi kepiting yang me...</td>\n",
       "      <td>positive</td>\n",
       "      <td>enak masakan nya kepiting menyenangkan memilih...</td>\n",
       "      <td>80</td>\n",
       "      <td>11</td>\n",
       "    </tr>\n",
       "    <tr>\n",
       "      <th>10892</th>\n",
       "      <td>pagi pagi di tol pasteur sudah macet parah , b...</td>\n",
       "      <td>negative</td>\n",
       "      <td>pagi pagi tol pasteur macet parah bikin jengkel</td>\n",
       "      <td>47</td>\n",
       "      <td>8</td>\n",
       "    </tr>\n",
       "    <tr>\n",
       "      <th>10893</th>\n",
       "      <td>meskipun sering belanja ke yogya di riau junct...</td>\n",
       "      <td>positive</td>\n",
       "      <td>belanja yogyakarta riau junction kali lihat fo...</td>\n",
       "      <td>196</td>\n",
       "      <td>28</td>\n",
       "    </tr>\n",
       "  </tbody>\n",
       "</table>\n",
       "</div>"
      ],
      "text/plain": [
       "                                                 Kalimat Sentiment  \\\n",
       "10889  f - demokrat dorong upaya kemandirian energi n...   neutral   \n",
       "10890                                        tidak bosan  positive   \n",
       "10891  enak rasa masakan nya apalagi kepiting yang me...  positive   \n",
       "10892  pagi pagi di tol pasteur sudah macet parah , b...  negative   \n",
       "10893  meskipun sering belanja ke yogya di riau junct...  positive   \n",
       "\n",
       "                                                   Clean  total_char  \\\n",
       "10889  f demokrat dorong upaya kemandirian energi nas...          51   \n",
       "10890                                              bosan           5   \n",
       "10891  enak masakan nya kepiting menyenangkan memilih...          80   \n",
       "10892    pagi pagi tol pasteur macet parah bikin jengkel          47   \n",
       "10893  belanja yogyakarta riau junction kali lihat fo...         196   \n",
       "\n",
       "       total_word  \n",
       "10889           7  \n",
       "10890           1  \n",
       "10891          11  \n",
       "10892           8  \n",
       "10893          28  "
      ]
     },
     "execution_count": 14,
     "metadata": {},
     "output_type": "execute_result"
    }
   ],
   "source": [
    "#data training no outlier\n",
    "trainn = traints[(traints['total_word'] >= batas_bawah) & (traints['total_word'] <= batas_atas)]\n",
    "trainn = trainn.reset_index(drop=True)\n",
    "trainn.tail()"
   ]
  },
  {
   "cell_type": "code",
   "execution_count": 15,
   "metadata": {},
   "outputs": [
    {
     "data": {
      "text/plain": [
       "(10894, 5)"
      ]
     },
     "execution_count": 15,
     "metadata": {},
     "output_type": "execute_result"
    }
   ],
   "source": [
    "trainn.shape"
   ]
  },
  {
   "attachments": {},
   "cell_type": "markdown",
   "metadata": {},
   "source": [
    "## Neural Network (MLP Classifier)"
   ]
  },
  {
   "attachments": {},
   "cell_type": "markdown",
   "metadata": {},
   "source": [
    "### Feature Extraction"
   ]
  },
  {
   "cell_type": "code",
   "execution_count": 16,
   "metadata": {},
   "outputs": [
    {
     "name": "stdout",
     "output_type": "stream",
     "text": [
      "Feature Extraction done\n",
      "  (0, 912)\t1\n",
      "  (0, 1005)\t1\n",
      "  (0, 1155)\t1\n",
      "  (0, 1475)\t1\n",
      "  (0, 1700)\t1\n",
      "  (0, 2085)\t1\n",
      "  (0, 3714)\t1\n",
      "  (0, 3766)\t2\n",
      "  (0, 4053)\t1\n",
      "  (0, 5322)\t1\n",
      "  (0, 5714)\t1\n",
      "  (0, 6248)\t1\n",
      "  (0, 6424)\t1\n",
      "  (0, 7275)\t1\n",
      "  (0, 8340)\t1\n",
      "  (0, 8411)\t1\n",
      "  (0, 9134)\t2\n",
      "  (0, 9165)\t1\n",
      "  (0, 10003)\t1\n",
      "  (0, 10240)\t1\n",
      "  (0, 10927)\t1\n",
      "  (0, 11713)\t1\n",
      "  (0, 11751)\t1\n",
      "  (0, 12786)\t1\n",
      "  (0, 14032)\t1\n",
      "  :\t:\n",
      "  (10893, 905)\t1\n",
      "  (10893, 1160)\t1\n",
      "  (10893, 1215)\t1\n",
      "  (10893, 1371)\t1\n",
      "  (10893, 1472)\t1\n",
      "  (10893, 1854)\t1\n",
      "  (10893, 1986)\t1\n",
      "  (10893, 3990)\t1\n",
      "  (10893, 4723)\t1\n",
      "  (10893, 4724)\t1\n",
      "  (10893, 6167)\t1\n",
      "  (10893, 6263)\t1\n",
      "  (10893, 7352)\t1\n",
      "  (10893, 7680)\t1\n",
      "  (10893, 7818)\t1\n",
      "  (10893, 7971)\t1\n",
      "  (10893, 7972)\t2\n",
      "  (10893, 10003)\t3\n",
      "  (10893, 11338)\t1\n",
      "  (10893, 11339)\t1\n",
      "  (10893, 12133)\t1\n",
      "  (10893, 12169)\t1\n",
      "  (10893, 14569)\t1\n",
      "  (10893, 14723)\t1\n",
      "  (10893, 15439)\t1\n"
     ]
    }
   ],
   "source": [
    "dataprep = trainn.Clean.to_list()\n",
    "cv_nn = CountVectorizer()\n",
    "cv_nn.fit(dataprep)\n",
    "\n",
    "X = cv_nn.transform(dataprep)\n",
    "print('Feature Extraction done')\n",
    "print (X)"
   ]
  },
  {
   "cell_type": "code",
   "execution_count": 17,
   "metadata": {},
   "outputs": [],
   "source": [
    "pickle.dump(cv_nn, open('asset/feature/feature_nn.pickle','wb'))"
   ]
  },
  {
   "attachments": {},
   "cell_type": "markdown",
   "metadata": {},
   "source": [
    "### Train Model NN"
   ]
  },
  {
   "cell_type": "code",
   "execution_count": 18,
   "metadata": {},
   "outputs": [
    {
     "data": {
      "text/plain": [
       "0    positive\n",
       "1     neutral\n",
       "2    positive\n",
       "3    positive\n",
       "4    negative\n",
       "Name: Sentiment, dtype: object"
      ]
     },
     "execution_count": 18,
     "metadata": {},
     "output_type": "execute_result"
    }
   ],
   "source": [
    "Y = trainn.Sentiment\n",
    "Y.head()"
   ]
  },
  {
   "cell_type": "code",
   "execution_count": 19,
   "metadata": {},
   "outputs": [],
   "source": [
    "X_train, X_test, Y_train, Y_test = train_test_split(X,Y, test_size=0.2)"
   ]
  },
  {
   "cell_type": "code",
   "execution_count": 20,
   "metadata": {},
   "outputs": [
    {
     "name": "stdout",
     "output_type": "stream",
     "text": [
      "Training selesai\n"
     ]
    }
   ],
   "source": [
    "model_nn = MLPClassifier()\n",
    "model_nn.fit(X_train, Y_train)\n",
    "\n",
    "print('Training selesai')"
   ]
  },
  {
   "cell_type": "code",
   "execution_count": 21,
   "metadata": {},
   "outputs": [],
   "source": [
    "pickle.dump(model_nn, open('asset/model/model_nn.pickle','wb'))"
   ]
  },
  {
   "attachments": {},
   "cell_type": "markdown",
   "metadata": {},
   "source": [
    "### Evaluation NN"
   ]
  },
  {
   "cell_type": "code",
   "execution_count": 22,
   "metadata": {},
   "outputs": [
    {
     "name": "stdout",
     "output_type": "stream",
     "text": [
      "testing selesai\n",
      "              precision    recall  f1-score   support\n",
      "\n",
      "    negative       0.69      0.72      0.71       700\n",
      "     neutral       0.70      0.51      0.59       229\n",
      "    positive       0.84      0.87      0.85      1250\n",
      "\n",
      "    accuracy                           0.78      2179\n",
      "   macro avg       0.75      0.70      0.72      2179\n",
      "weighted avg       0.78      0.78      0.78      2179\n",
      "\n"
     ]
    }
   ],
   "source": [
    "test = model_nn.predict(X_test)\n",
    "\n",
    "print ('testing selesai')\n",
    "print(classification_report(Y_test, test))"
   ]
  },
  {
   "cell_type": "code",
   "execution_count": 23,
   "metadata": {},
   "outputs": [
    {
     "data": {
      "image/png": "[encoded data removed]",
      "text/plain": [
       "<Figure size 640x480 with 2 Axes>"
      ]
     },
     "metadata": {},
     "output_type": "display_data"
    }
   ],
   "source": [
    "cm_nn = confusion_matrix(Y_test, test)\n",
    "\n",
    "sns.heatmap(cm_nn, annot=True, cmap='Blues', fmt='g')\n",
    "plt.xlabel('Predicted labels')\n",
    "plt.ylabel('True labels')\n",
    "plt.show()"
   ]
  },
  {
   "cell_type": "code",
   "execution_count": 24,
   "metadata": {},
   "outputs": [],
   "source": [
    "# Create a KFold object with 5 splits and a fixed random state\n",
    "Kf = KFold(n_splits=5, shuffle=True, random_state=42)\n",
    "akurasi = []"
   ]
  },
  {
   "cell_type": "code",
   "execution_count": 25,
   "metadata": {},
   "outputs": [
    {
     "name": "stdout",
     "output_type": "stream",
     "text": [
      "Training ke:  1\n",
      "---\n",
      "              precision    recall  f1-score   support\n",
      "\n",
      "    negative       0.74      0.78      0.76       720\n",
      "     neutral       0.69      0.55      0.61       214\n",
      "    positive       0.87      0.88      0.87      1245\n",
      "\n",
      "    accuracy                           0.81      2179\n",
      "   macro avg       0.77      0.73      0.75      2179\n",
      "weighted avg       0.81      0.81      0.81      2179\n",
      "\n",
      "Training ke:  2\n",
      "---\n",
      "              precision    recall  f1-score   support\n",
      "\n",
      "    negative       0.70      0.74      0.72       679\n",
      "     neutral       0.74      0.55      0.63       223\n",
      "    positive       0.86      0.87      0.86      1277\n",
      "\n",
      "    accuracy                           0.80      2179\n",
      "   macro avg       0.76      0.72      0.74      2179\n",
      "weighted avg       0.80      0.80      0.79      2179\n",
      "\n",
      "Training ke:  3\n",
      "---\n",
      "              precision    recall  f1-score   support\n",
      "\n",
      "    negative       0.67      0.69      0.68       638\n",
      "     neutral       0.71      0.55      0.62       246\n",
      "    positive       0.85      0.87      0.86      1295\n",
      "\n",
      "    accuracy                           0.78      2179\n",
      "   macro avg       0.74      0.70      0.72      2179\n",
      "weighted avg       0.78      0.78      0.78      2179\n",
      "\n",
      "Training ke:  4\n",
      "---\n",
      "              precision    recall  f1-score   support\n",
      "\n",
      "    negative       0.71      0.74      0.73       703\n",
      "     neutral       0.71      0.58      0.64       233\n",
      "    positive       0.85      0.86      0.86      1243\n",
      "\n",
      "    accuracy                           0.79      2179\n",
      "   macro avg       0.76      0.73      0.74      2179\n",
      "weighted avg       0.79      0.79      0.79      2179\n",
      "\n",
      "Training ke:  5\n",
      "---\n",
      "              precision    recall  f1-score   support\n",
      "\n",
      "    negative       0.68      0.72      0.70       664\n",
      "     neutral       0.71      0.53      0.61       220\n",
      "    positive       0.85      0.86      0.85      1294\n",
      "\n",
      "    accuracy                           0.78      2178\n",
      "   macro avg       0.75      0.70      0.72      2178\n",
      "weighted avg       0.78      0.78      0.78      2178\n",
      "\n",
      "rata-rata akurasi:  0.7837465564738292\n"
     ]
    }
   ],
   "source": [
    "for iteration, data in enumerate(Kf.split(X), start=1):\n",
    "    data_train = X[data[0]]\n",
    "    target_train = Y[data[0]]\n",
    "\n",
    "    data_test = X[data[1]]\n",
    "    target_test = Y[data[1]]\n",
    "\n",
    "    clf = MLPClassifier()\n",
    "    clf.fit(data_train, target_train)\n",
    "    \n",
    "    pred = clf.predict(data_test)\n",
    "    akrsi = accuracy_score(target_test,pred)\n",
    "\n",
    "    print(\"Training ke: \", iteration)\n",
    "    print(\"---\")\n",
    "    print(classification_report(target_test,pred))\n",
    "\n",
    "akurasi.append(akrsi)\n",
    "print(\"rata-rata akurasi: \", np.mean(akurasi))"
   ]
  },
  {
   "attachments": {},
   "cell_type": "markdown",
   "metadata": {},
   "source": [
    "### Predict Test NN"
   ]
  },
  {
   "cell_type": "code",
   "execution_count": 26,
   "metadata": {},
   "outputs": [
    {
     "name": "stdout",
     "output_type": "stream",
     "text": [
      "\n",
      "selamat makan\n",
      "sentiment: neutral\n"
     ]
    }
   ],
   "source": [
    "ori = '''\n",
    "selamat makan'''\n",
    "\n",
    "te = cv_nn.transform([clean(ori)])\n",
    "res = model_nn.predict(te)[0]\n",
    "\n",
    "print(ori)\n",
    "print('sentiment:', res)"
   ]
  },
  {
   "attachments": {},
   "cell_type": "markdown",
   "metadata": {},
   "source": [
    "## LSTM (Long-short Term Memory)"
   ]
  },
  {
   "attachments": {},
   "cell_type": "markdown",
   "metadata": {},
   "source": [
    "### Feature Extraction LSTM"
   ]
  },
  {
   "cell_type": "code",
   "execution_count": 27,
   "metadata": {},
   "outputs": [],
   "source": [
    "neg = trainn.loc[trainn.Sentiment == 'negative'].Clean.tolist()\n",
    "neu = trainn.loc[trainn.Sentiment == 'neutral'].Clean.tolist()\n",
    "pos = trainn.loc[trainn.Sentiment == 'positive'].Clean.tolist()\n",
    "\n",
    "neg_sntmnt = trainn.loc[trainn.Sentiment == 'negative'].Sentiment.tolist()\n",
    "neu_sntmnt = trainn.loc[trainn.Sentiment == 'neutral'].Sentiment.tolist()\n",
    "pos_sntmnt = trainn.loc[trainn.Sentiment == 'positive'].Sentiment.tolist()"
   ]
  },
  {
   "cell_type": "code",
   "execution_count": 28,
   "metadata": {},
   "outputs": [
    {
     "name": "stdout",
     "output_type": "stream",
     "text": [
      "Pos: 6354, Neu: 1136, Neg: 3404\n",
      "Total data: 10894\n"
     ]
    }
   ],
   "source": [
    "total_data = pos + neu + neg\n",
    "labels = pos_sntmnt + neu_sntmnt + neg_sntmnt\n",
    "\n",
    "print(\"Pos: %s, Neu: %s, Neg: %s\" % (len(pos), len(neu), len(neg)))\n",
    "print(\"Total data: %s\" % len(total_data))"
   ]
  },
  {
   "cell_type": "code",
   "execution_count": 29,
   "metadata": {},
   "outputs": [
    {
     "name": "stdout",
     "output_type": "stream",
     "text": [
      "tokenizer.pickle has created!\n",
      "x_pad_sequences.pickle has created!\n"
     ]
    }
   ],
   "source": [
    "max_features = 50000\n",
    "tokenizer = Tokenizer(num_words=max_features, split=' ', lower=True)\n",
    "tokenizer.fit_on_texts(total_data)\n",
    "with open('asset/feature/tokenizer.pickle', 'wb') as handle:\n",
    "    pickle.dump(tokenizer, handle, protocol=pickle.HIGHEST_PROTOCOL)\n",
    "    print(\"tokenizer.pickle has created!\")\n",
    "\n",
    "X = tokenizer.texts_to_sequences(total_data)\n",
    "\n",
    "vocab_size = len(tokenizer.word_index)\n",
    "maxlen = max(len(x) for x in X)\n",
    "\n",
    "X = pad_sequences(X)\n",
    "with open('asset/feature/x_pad_sequences.pickle', 'wb') as handle:\n",
    "    pickle.dump(X, handle, protocol=pickle.HIGHEST_PROTOCOL)\n",
    "    print(\"x_pad_sequences.pickle has created!\")"
   ]
  },
  {
   "cell_type": "code",
   "execution_count": 30,
   "metadata": {},
   "outputs": [
    {
     "name": "stdout",
     "output_type": "stream",
     "text": [
      "y_labels.pickle has created!\n"
     ]
    }
   ],
   "source": [
    "Y = pd.get_dummies(labels)\n",
    "Y = Y.values\n",
    "\n",
    "with open('asset/feature/y_labels.pickle', 'wb') as handle:\n",
    "    pickle.dump(Y, handle, protocol=pickle.HIGHEST_PROTOCOL)\n",
    "    print(\"y_labels.pickle has created!\")"
   ]
  },
  {
   "attachments": {},
   "cell_type": "markdown",
   "metadata": {},
   "source": [
    "### Train Model LSTM"
   ]
  },
  {
   "cell_type": "code",
   "execution_count": 31,
   "metadata": {},
   "outputs": [],
   "source": [
    "file = open(\"asset/feature/x_pad_sequences.pickle\",'rb')\n",
    "X = pickle.load(file)\n",
    "file.close()\n",
    "\n",
    "file = open(\"asset/feature/y_labels.pickle\",'rb')\n",
    "Y = pickle.load(file)\n",
    "file.close()\n",
    "\n",
    "X_train, X_test, y_train, y_test = train_test_split(X, Y, test_size=0.2, random_state=1)"
   ]
  },
  {
   "cell_type": "code",
   "execution_count": 39,
   "metadata": {},
   "outputs": [
    {
     "name": "stdout",
     "output_type": "stream",
     "text": [
      "Model: \"sequential_6\"\n",
      "_________________________________________________________________\n",
      " Layer (type)                Output Shape              Param #   \n",
      "=================================================================\n",
      " embedding_6 (Embedding)     (None, 46, 100)           5000000   \n",
      "                                                                 \n",
      " lstm_6 (LSTM)               (None, 128)               117248    \n",
      "                                                                 \n",
      " dense_6 (Dense)             (None, 3)                 387       \n",
      "                                                                 \n",
      "=================================================================\n",
      "Total params: 5,117,635\n",
      "Trainable params: 5,117,635\n",
      "Non-trainable params: 0\n",
      "_________________________________________________________________\n",
      "None\n",
      "Epoch 1/15\n"
     ]
    },
    {
     "name": "stderr",
     "output_type": "stream",
     "text": [
      "c:\\Users\\BAV USER\\Python\\lib\\site-packages\\keras\\optimizers\\legacy\\adam.py:117: UserWarning: The `lr` argument is deprecated, use `learning_rate` instead.\n",
      "  super().__init__(name, **kwargs)\n"
     ]
    },
    {
     "name": "stdout",
     "output_type": "stream",
     "text": [
      "69/69 [==============================] - 24s 313ms/step - loss: 0.8700 - accuracy: 0.7004 - val_loss: 0.6861 - val_accuracy: 0.7398\n",
      "Epoch 2/15\n",
      "69/69 [==============================] - 24s 346ms/step - loss: 0.4894 - accuracy: 0.8210 - val_loss: 0.4851 - val_accuracy: 0.8224\n",
      "Epoch 3/15\n",
      "69/69 [==============================] - 27s 394ms/step - loss: 0.2955 - accuracy: 0.9106 - val_loss: 0.4667 - val_accuracy: 0.8362\n",
      "Epoch 4/15\n",
      "69/69 [==============================] - 21s 312ms/step - loss: 0.2061 - accuracy: 0.9406 - val_loss: 0.5142 - val_accuracy: 0.8389\n",
      "Epoch 4: early stopping\n"
     ]
    }
   ],
   "source": [
    "embed_dim = 100\n",
    "units = 128\n",
    "\n",
    "model = Sequential()\n",
    "model.add(Embedding(max_features, embed_dim, input_length=X.shape[1]))\n",
    "model.add(LSTM(128, dropout=0.1, recurrent_dropout=0.1, kernel_regularizer=regularizers.l2(0.002)))\n",
    "model.add(Dense(3,activation='softmax'))\n",
    "\n",
    "adam = optimizers.Adam(lr = 0.001)\n",
    "model.compile(loss = 'categorical_crossentropy', optimizer = adam, metrics = ['accuracy'])\n",
    "print(model.summary())\n",
    "\n",
    "es = EarlyStopping(monitor='val_loss', mode='min', verbose=1)\n",
    "history = model.fit(X_train, y_train, epochs=15, batch_size=128, validation_data=(X_test, y_test), verbose=1, callbacks=[es])"
   ]
  },
  {
   "attachments": {},
   "cell_type": "markdown",
   "metadata": {},
   "source": [
    "### Evaluation LSTM"
   ]
  },
  {
   "cell_type": "code",
   "execution_count": 40,
   "metadata": {},
   "outputs": [
    {
     "name": "stdout",
     "output_type": "stream",
     "text": [
      "69/69 [==============================] - 1s 12ms/step\n",
      "Testing selesai\n",
      "              precision    recall  f1-score   support\n",
      "\n",
      "           0       0.81      0.75      0.78       685\n",
      "           1       0.77      0.61      0.68       235\n",
      "           2       0.86      0.93      0.89      1259\n",
      "\n",
      "    accuracy                           0.84      2179\n",
      "   macro avg       0.81      0.76      0.79      2179\n",
      "weighted avg       0.84      0.84      0.84      2179\n",
      "\n"
     ]
    }
   ],
   "source": [
    "predictions = model.predict(X_test)\n",
    "y_pred = predictions\n",
    "y_pred_classes = np.argmax(y_pred, axis=1)\n",
    "Y_test_classes = np.argmax(y_test, axis=1)\n",
    "matrix_test = metrics.classification_report(Y_test_classes, y_pred_classes)\n",
    "print(\"Testing selesai\")\n",
    "print(matrix_test)"
   ]
  },
  {
   "cell_type": "code",
   "execution_count": 41,
   "metadata": {},
   "outputs": [
    {
     "data": {
      "image/png": "[encoded data removed]",
      "text/plain": [
       "<Figure size 640x480 with 2 Axes>"
      ]
     },
     "metadata": {},
     "output_type": "display_data"
    }
   ],
   "source": [
    "cm_LSTM = confusion_matrix(Y_test_classes, y_pred_classes)\n",
    "\n",
    "sns.heatmap(cm_LSTM, annot=True, cmap='Blues', fmt='g')\n",
    "plt.xlabel('Predicted labels')\n",
    "plt.ylabel('True labels')\n",
    "plt.show()"
   ]
  },
  {
   "cell_type": "code",
   "execution_count": 42,
   "metadata": {},
   "outputs": [
    {
     "name": "stdout",
     "output_type": "stream",
     "text": [
      "Epoch 1/15\n"
     ]
    },
    {
     "name": "stderr",
     "output_type": "stream",
     "text": [
      "c:\\Users\\BAV USER\\Python\\lib\\site-packages\\keras\\optimizers\\legacy\\adam.py:117: UserWarning: The `lr` argument is deprecated, use `learning_rate` instead.\n",
      "  super().__init__(name, **kwargs)\n"
     ]
    },
    {
     "name": "stdout",
     "output_type": "stream",
     "text": [
      "69/69 [==============================] - 13s 157ms/step - loss: 0.6899 - accuracy: 0.7238 - val_loss: 0.5305 - val_accuracy: 0.7825\n",
      "Epoch 2/15\n",
      "69/69 [==============================] - 10s 141ms/step - loss: 0.3943 - accuracy: 0.8374 - val_loss: 0.5057 - val_accuracy: 0.8040\n",
      "Epoch 3/15\n",
      "69/69 [==============================] - 10s 139ms/step - loss: 0.2263 - accuracy: 0.9204 - val_loss: 0.4242 - val_accuracy: 0.8463\n",
      "Epoch 4/15\n",
      "69/69 [==============================] - 10s 141ms/step - loss: 0.1440 - accuracy: 0.9524 - val_loss: 0.4623 - val_accuracy: 0.8444\n",
      "Epoch 4: early stopping\n",
      "69/69 [==============================] - 2s 17ms/step\n",
      "Training ke- 1\n",
      "              precision    recall  f1-score   support\n",
      "\n",
      "           0       0.78      0.80      0.79       685\n",
      "           1       0.77      0.65      0.71       235\n",
      "           2       0.89      0.90      0.90      1259\n",
      "\n",
      "    accuracy                           0.84      2179\n",
      "   macro avg       0.81      0.79      0.80      2179\n",
      "weighted avg       0.84      0.84      0.84      2179\n",
      "\n",
      "======================================================\n",
      "Epoch 1/15\n"
     ]
    },
    {
     "name": "stderr",
     "output_type": "stream",
     "text": [
      "c:\\Users\\BAV USER\\Python\\lib\\site-packages\\keras\\optimizers\\legacy\\adam.py:117: UserWarning: The `lr` argument is deprecated, use `learning_rate` instead.\n",
      "  super().__init__(name, **kwargs)\n"
     ]
    },
    {
     "name": "stdout",
     "output_type": "stream",
     "text": [
      "69/69 [==============================] - 13s 157ms/step - loss: 0.7074 - accuracy: 0.7197 - val_loss: 0.5274 - val_accuracy: 0.7779\n",
      "Epoch 2/15\n",
      "69/69 [==============================] - 12s 170ms/step - loss: 0.3956 - accuracy: 0.8403 - val_loss: 0.4318 - val_accuracy: 0.8348\n",
      "Epoch 3/15\n",
      "69/69 [==============================] - 11s 152ms/step - loss: 0.2235 - accuracy: 0.9216 - val_loss: 0.4346 - val_accuracy: 0.8444\n",
      "Epoch 3: early stopping\n",
      "69/69 [==============================] - 2s 18ms/step\n",
      "Training ke- 2\n",
      "              precision    recall  f1-score   support\n",
      "\n",
      "           0       0.80      0.78      0.79       685\n",
      "           1       0.71      0.68      0.70       235\n",
      "           2       0.89      0.91      0.90      1259\n",
      "\n",
      "    accuracy                           0.84      2179\n",
      "   macro avg       0.80      0.79      0.79      2179\n",
      "weighted avg       0.84      0.84      0.84      2179\n",
      "\n",
      "======================================================\n",
      "Epoch 1/15\n"
     ]
    },
    {
     "name": "stderr",
     "output_type": "stream",
     "text": [
      "c:\\Users\\BAV USER\\Python\\lib\\site-packages\\keras\\optimizers\\legacy\\adam.py:117: UserWarning: The `lr` argument is deprecated, use `learning_rate` instead.\n",
      "  super().__init__(name, **kwargs)\n"
     ]
    },
    {
     "name": "stdout",
     "output_type": "stream",
     "text": [
      "69/69 [==============================] - 13s 160ms/step - loss: 0.7064 - accuracy: 0.7114 - val_loss: 0.5383 - val_accuracy: 0.7884\n",
      "Epoch 2/15\n",
      "69/69 [==============================] - 11s 154ms/step - loss: 0.4072 - accuracy: 0.8338 - val_loss: 0.4166 - val_accuracy: 0.8380\n",
      "Epoch 3/15\n",
      "69/69 [==============================] - 10s 151ms/step - loss: 0.2258 - accuracy: 0.9180 - val_loss: 0.4289 - val_accuracy: 0.8371\n",
      "Epoch 3: early stopping\n",
      "69/69 [==============================] - 1s 16ms/step\n",
      "Training ke- 3\n",
      "              precision    recall  f1-score   support\n",
      "\n",
      "           0       0.74      0.83      0.78       685\n",
      "           1       0.76      0.63      0.69       235\n",
      "           2       0.91      0.88      0.89      1259\n",
      "\n",
      "    accuracy                           0.84      2179\n",
      "   macro avg       0.80      0.78      0.79      2179\n",
      "weighted avg       0.84      0.84      0.84      2179\n",
      "\n",
      "======================================================\n",
      "Epoch 1/15\n"
     ]
    },
    {
     "name": "stderr",
     "output_type": "stream",
     "text": [
      "c:\\Users\\BAV USER\\Python\\lib\\site-packages\\keras\\optimizers\\legacy\\adam.py:117: UserWarning: The `lr` argument is deprecated, use `learning_rate` instead.\n",
      "  super().__init__(name, **kwargs)\n"
     ]
    },
    {
     "name": "stdout",
     "output_type": "stream",
     "text": [
      "69/69 [==============================] - 12s 156ms/step - loss: 0.6906 - accuracy: 0.7237 - val_loss: 0.5270 - val_accuracy: 0.7834\n",
      "Epoch 2/15\n",
      "69/69 [==============================] - 10s 147ms/step - loss: 0.3982 - accuracy: 0.8338 - val_loss: 0.4357 - val_accuracy: 0.8229\n",
      "Epoch 3/15\n",
      "69/69 [==============================] - 10s 148ms/step - loss: 0.2304 - accuracy: 0.9166 - val_loss: 0.4394 - val_accuracy: 0.8426\n",
      "Epoch 3: early stopping\n",
      "69/69 [==============================] - 2s 17ms/step\n",
      "Training ke- 4\n",
      "              precision    recall  f1-score   support\n",
      "\n",
      "           0       0.76      0.84      0.79       685\n",
      "           1       0.78      0.58      0.67       235\n",
      "           2       0.90      0.89      0.90      1259\n",
      "\n",
      "    accuracy                           0.84      2179\n",
      "   macro avg       0.81      0.77      0.79      2179\n",
      "weighted avg       0.84      0.84      0.84      2179\n",
      "\n",
      "======================================================\n",
      "Epoch 1/15\n"
     ]
    },
    {
     "name": "stderr",
     "output_type": "stream",
     "text": [
      "c:\\Users\\BAV USER\\Python\\lib\\site-packages\\keras\\optimizers\\legacy\\adam.py:117: UserWarning: The `lr` argument is deprecated, use `learning_rate` instead.\n",
      "  super().__init__(name, **kwargs)\n"
     ]
    },
    {
     "name": "stdout",
     "output_type": "stream",
     "text": [
      "69/69 [==============================] - 13s 152ms/step - loss: 0.7323 - accuracy: 0.7051 - val_loss: 0.5899 - val_accuracy: 0.7659\n",
      "Epoch 2/15\n",
      "69/69 [==============================] - 10s 147ms/step - loss: 0.4493 - accuracy: 0.8208 - val_loss: 0.4425 - val_accuracy: 0.8339\n",
      "Epoch 3/15\n",
      "69/69 [==============================] - 10s 146ms/step - loss: 0.2675 - accuracy: 0.9046 - val_loss: 0.4266 - val_accuracy: 0.8421\n",
      "Epoch 4/15\n",
      "69/69 [==============================] - 10s 150ms/step - loss: 0.1736 - accuracy: 0.9376 - val_loss: 0.4631 - val_accuracy: 0.8417\n",
      "Epoch 4: early stopping\n",
      "69/69 [==============================] - 2s 21ms/step\n",
      "Training ke- 5\n",
      "              precision    recall  f1-score   support\n",
      "\n",
      "           0       0.77      0.82      0.79       685\n",
      "           1       0.76      0.66      0.70       235\n",
      "           2       0.90      0.89      0.89      1259\n",
      "\n",
      "    accuracy                           0.84      2179\n",
      "   macro avg       0.81      0.79      0.80      2179\n",
      "weighted avg       0.84      0.84      0.84      2179\n",
      "\n",
      "======================================================\n",
      "\n",
      "\n",
      "\n",
      "Rata-rata Accuracy:  84.20376319412574\n"
     ]
    }
   ],
   "source": [
    "kf = KFold(n_splits=5,random_state=42,shuffle=True)\n",
    "\n",
    "accuracies = []\n",
    "\n",
    "y = Y\n",
    "\n",
    "embed_dim = 100\n",
    "units = 128\n",
    "\n",
    "for iteration, data in enumerate(kf.split(X), start=1):\n",
    "\n",
    "    data_train   = X[data[0]]\n",
    "    target_train = y[data[0]]\n",
    "\n",
    "    data_test    = X[data[1]]\n",
    "    target_test  = y[data[1]]\n",
    "\n",
    "\n",
    "    model = Sequential()\n",
    "    model.add(Embedding(max_features, embed_dim, input_length=X.shape[1]))\n",
    "    model.add(LSTM(units, dropout=0.2))\n",
    "    model.add(Dense(3,activation='softmax'))\n",
    "\n",
    "    adam = optimizers.Adam(lr = 0.001)\n",
    "    model.compile(loss = 'categorical_crossentropy', optimizer = adam, metrics = ['accuracy'])\n",
    "\n",
    "    es = EarlyStopping(monitor='val_loss', mode='min', verbose=1)\n",
    "    history = model.fit(X_train, y_train, epochs=15, batch_size=128, validation_data=(X_test, y_test), verbose=1, callbacks=[es])\n",
    "\n",
    "    predictions = model.predict(X_test)\n",
    "    y_pred = predictions\n",
    "\n",
    "    # for the current fold only    \n",
    "    accuracy = accuracy_score(y_test.argmax(axis=1), y_pred.argmax(axis=1))\n",
    "\n",
    "    print(\"Training ke-\", iteration)\n",
    "    print(classification_report(y_test.argmax(axis=1), y_pred.argmax(axis=1)))\n",
    "    print(\"======================================================\")\n",
    "\n",
    "    accuracies.append(accuracy)\n",
    "\n",
    "# this is the average accuracy over all folds\n",
    "average_accuracy = np.mean(accuracies)\n",
    "\n",
    "print()\n",
    "print()\n",
    "print()\n",
    "print(\"Rata-rata Accuracy: \", average_accuracy *100)"
   ]
  },
  {
   "cell_type": "code",
   "execution_count": 43,
   "metadata": {},
   "outputs": [
    {
     "data": {
      "image/png": "[encoded data removed]",
      "text/plain": [
       "<Figure size 1200x500 with 2 Axes>"
      ]
     },
     "metadata": {},
     "output_type": "display_data"
    }
   ],
   "source": [
    "# history.history\n",
    "import matplotlib.pyplot as plt\n",
    "plt.style.use('ggplot')\n",
    "\n",
    "def plot_history(history):\n",
    "    acc = history.history['accuracy']\n",
    "    val_acc = history.history['val_accuracy']\n",
    "    loss = history.history['loss']\n",
    "    val_loss = history.history['val_loss']\n",
    "    x = range(1, len(acc) + 1)\n",
    "\n",
    "    plt.figure(figsize=(12, 5))\n",
    "    plt.subplot(1, 2, 1)\n",
    "    plt.plot(x, acc, 'b', label='Training acc')\n",
    "    plt.plot(x, val_acc, 'r', label='Validation acc')\n",
    "    plt.title('Training and validation accuracy')\n",
    "    plt.legend()\n",
    "    plt.subplot(1, 2, 2)\n",
    "    plt.plot(x, loss, 'b', label='Training loss')\n",
    "    plt.plot(x, val_loss, 'r', label='Validation loss')\n",
    "    plt.title('Training and validation loss')\n",
    "    plt.legend()\n",
    "\n",
    "%matplotlib inline\n",
    "plot_history(history)"
   ]
  },
  {
   "cell_type": "code",
   "execution_count": 44,
   "metadata": {},
   "outputs": [
    {
     "name": "stdout",
     "output_type": "stream",
     "text": [
      "Model has created!\n"
     ]
    }
   ],
   "source": [
    "model.save('asset/model/model_lstm.h5')\n",
    "print(\"Model has created!\")"
   ]
  },
  {
   "attachments": {},
   "cell_type": "markdown",
   "metadata": {},
   "source": [
    "### Predict Test LSTM"
   ]
  },
  {
   "cell_type": "code",
   "execution_count": 45,
   "metadata": {},
   "outputs": [
    {
     "name": "stdout",
     "output_type": "stream",
     "text": [
      "1/1 [==============================] - 1s 598ms/step\n",
      "Text:  selamat malam\n",
      "Sentiment:  neutral\n"
     ]
    }
   ],
   "source": [
    "input_text = \"\"\"\n",
    "selamat malam semua\"\"\"\n",
    "\n",
    "sentiment = ['negative', 'neutral', 'positive']\n",
    "\n",
    "text = [clean(input_text)]\n",
    "predicted = tokenizer.texts_to_sequences(text)\n",
    "guess = pad_sequences(predicted, maxlen=X.shape[1])\n",
    "\n",
    "model_lstm = load_model('asset/model/model_lstm.h5')\n",
    "prediction = model_lstm.predict(guess)\n",
    "polarity = np.argmax(prediction[0])\n",
    "\n",
    "print(\"Text: \",text[0])\n",
    "print(\"Sentiment: \",sentiment[polarity])"
   ]
  }
 ],
 "metadata": {
  "kernelspec": {
   "display_name": "Python 3",
   "language": "python",
   "name": "python3"
  },
  "language_info": {
   "codemirror_mode": {
    "name": "ipython",
    "version": 3
   },
   "file_extension": ".py",
   "mimetype": "text/x-python",
   "name": "python",
   "nbconvert_exporter": "python",
   "pygments_lexer": "ipython3",
   "version": "3.9.13"
  },
  "orig_nbformat": 4
 },
 "nbformat": 4,
 "nbformat_minor": 2
}
