{
 "cells": [
  {
   "cell_type": "code",
   "execution_count": 65,
   "metadata": {},
   "outputs": [],
   "source": [
    "#import modul/library\n",
    "import pandas as pd\n",
    "import numpy as np\n",
    "import seaborn as sns\n",
    "import matplotlib.pyplot as plt\n",
    "import pickle\n",
    "\n",
    "from sklearn.feature_extraction.text import CountVectorizer\n",
    "from sklearn.model_selection import train_test_split, KFold\n",
    "from sklearn.neural_network import MLPClassifier\n",
    "from sklearn.metrics import classification_report, accuracy_score, confusion_matrix\n",
    "from keras.preprocessing.text import Tokenizer\n",
    "from keras.utils import pad_sequences\n",
    "from keras import layers, optimizers\n",
    "from keras.models import Sequential, load_model\n",
    "from keras.layers import Dense, Embedding, LSTM, SpatialDropout1D, SimpleRNN, Activation, Flatten\n",
    "from keras.callbacks import EarlyStopping, TensorBoard\n",
    "from keras import backend as K\n",
    "from keras import regularizers\n",
    "from keras.regularizers import L2, L1L2, L1\n",
    "from collections import defaultdict\n",
    "from sklearn import metrics\n",
    "\n",
    "from Cleansing import clean"
   ]
  },
  {
   "attachments": {},
   "cell_type": "markdown",
   "metadata": {},
   "source": [
    "## EDA & Pre Processing"
   ]
  },
  {
   "cell_type": "code",
   "execution_count": 66,
   "metadata": {},
   "outputs": [
    {
     "data": {
      "text/html": [
       "<div>\n",
       "<style scoped>\n",
       "    .dataframe tbody tr th:only-of-type {\n",
       "        vertical-align: middle;\n",
       "    }\n",
       "\n",
       "    .dataframe tbody tr th {\n",
       "        vertical-align: top;\n",
       "    }\n",
       "\n",
       "    .dataframe thead th {\n",
       "        text-align: right;\n",
       "    }\n",
       "</style>\n",
       "<table border=\"1\" class=\"dataframe\">\n",
       "  <thead>\n",
       "    <tr style=\"text-align: right;\">\n",
       "      <th></th>\n",
       "      <th>Kalimat</th>\n",
       "      <th>Sentiment</th>\n",
       "    </tr>\n",
       "  </thead>\n",
       "  <tbody>\n",
       "    <tr>\n",
       "      <th>0</th>\n",
       "      <td>warung ini dimiliki oleh pengusaha pabrik tahu...</td>\n",
       "      <td>positive</td>\n",
       "    </tr>\n",
       "    <tr>\n",
       "      <th>1</th>\n",
       "      <td>mohon ulama lurus dan k212 mmbri hujjah partai...</td>\n",
       "      <td>neutral</td>\n",
       "    </tr>\n",
       "    <tr>\n",
       "      <th>2</th>\n",
       "      <td>lokasi strategis di jalan sumatera bandung . t...</td>\n",
       "      <td>positive</td>\n",
       "    </tr>\n",
       "    <tr>\n",
       "      <th>3</th>\n",
       "      <td>betapa bahagia nya diri ini saat unboxing pake...</td>\n",
       "      <td>positive</td>\n",
       "    </tr>\n",
       "    <tr>\n",
       "      <th>4</th>\n",
       "      <td>duh . jadi mahasiswa jangan sombong dong . kas...</td>\n",
       "      <td>negative</td>\n",
       "    </tr>\n",
       "  </tbody>\n",
       "</table>\n",
       "</div>"
      ],
      "text/plain": [
       "                                             Kalimat Sentiment\n",
       "0  warung ini dimiliki oleh pengusaha pabrik tahu...  positive\n",
       "1  mohon ulama lurus dan k212 mmbri hujjah partai...   neutral\n",
       "2  lokasi strategis di jalan sumatera bandung . t...  positive\n",
       "3  betapa bahagia nya diri ini saat unboxing pake...  positive\n",
       "4  duh . jadi mahasiswa jangan sombong dong . kas...  negative"
      ]
     },
     "execution_count": 66,
     "metadata": {},
     "output_type": "execute_result"
    }
   ],
   "source": [
    "#read data training\n",
    "trains = pd.read_csv(\"dataset/train_preprocess.tsv.txt\", sep='\\t', names=['Kalimat','Sentiment'])\n",
    "trains.head()"
   ]
  },
  {
   "cell_type": "code",
   "execution_count": 67,
   "metadata": {},
   "outputs": [
    {
     "data": {
      "text/plain": [
       "(11000, 2)"
      ]
     },
     "execution_count": 67,
     "metadata": {},
     "output_type": "execute_result"
    }
   ],
   "source": [
    "#check data volume\n",
    "trains.shape"
   ]
  },
  {
   "cell_type": "code",
   "execution_count": 68,
   "metadata": {},
   "outputs": [
    {
     "data": {
      "text/plain": [
       "Kalimat      0\n",
       "Sentiment    0\n",
       "dtype: int64"
      ]
     },
     "execution_count": 68,
     "metadata": {},
     "output_type": "execute_result"
    }
   ],
   "source": [
    "#check data null\n",
    "trains.isna().sum()"
   ]
  },
  {
   "cell_type": "code",
   "execution_count": 69,
   "metadata": {},
   "outputs": [
    {
     "data": {
      "text/plain": [
       "67"
      ]
     },
     "execution_count": 69,
     "metadata": {},
     "output_type": "execute_result"
    }
   ],
   "source": [
    "#check total data duplicated\n",
    "trains.duplicated().sum()"
   ]
  },
  {
   "cell_type": "code",
   "execution_count": 70,
   "metadata": {},
   "outputs": [],
   "source": [
    "#Remove data duplicated\n",
    "trainn = trains.drop_duplicates(inplace=False, ignore_index=True)"
   ]
  },
  {
   "cell_type": "code",
   "execution_count": 71,
   "metadata": {},
   "outputs": [
    {
     "data": {
      "text/plain": [
       "(10933, 2)"
      ]
     },
     "execution_count": 71,
     "metadata": {},
     "output_type": "execute_result"
    }
   ],
   "source": [
    "#check data voulume after remove duplicated\n",
    "trainn.shape"
   ]
  },
  {
   "cell_type": "code",
   "execution_count": 72,
   "metadata": {},
   "outputs": [
    {
     "data": {
      "text/plain": [
       "positive    6383\n",
       "negative    3412\n",
       "neutral     1138\n",
       "Name: Sentiment, dtype: int64"
      ]
     },
     "execution_count": 72,
     "metadata": {},
     "output_type": "execute_result"
    }
   ],
   "source": [
    "#check distribution label\n",
    "trainn.Sentiment.value_counts()"
   ]
  },
  {
   "cell_type": "code",
   "execution_count": 73,
   "metadata": {},
   "outputs": [
    {
     "name": "stderr",
     "output_type": "stream",
     "text": [
      "C:\\Users\\BAV USER\\AppData\\Local\\Temp\\ipykernel_11880\\3965060814.py:2: SettingWithCopyWarning: \n",
      "A value is trying to be set on a copy of a slice from a DataFrame.\n",
      "Try using .loc[row_indexer,col_indexer] = value instead\n",
      "\n",
      "See the caveats in the documentation: https://pandas.pydata.org/pandas-docs/stable/user_guide/indexing.html#returning-a-view-versus-a-copy\n",
      "  trainn['Clean'] = trainn.Kalimat.apply(clean)\n"
     ]
    },
    {
     "data": {
      "text/html": [
       "<div>\n",
       "<style scoped>\n",
       "    .dataframe tbody tr th:only-of-type {\n",
       "        vertical-align: middle;\n",
       "    }\n",
       "\n",
       "    .dataframe tbody tr th {\n",
       "        vertical-align: top;\n",
       "    }\n",
       "\n",
       "    .dataframe thead th {\n",
       "        text-align: right;\n",
       "    }\n",
       "</style>\n",
       "<table border=\"1\" class=\"dataframe\">\n",
       "  <thead>\n",
       "    <tr style=\"text-align: right;\">\n",
       "      <th></th>\n",
       "      <th>Kalimat</th>\n",
       "      <th>Sentiment</th>\n",
       "      <th>Clean</th>\n",
       "    </tr>\n",
       "  </thead>\n",
       "  <tbody>\n",
       "    <tr>\n",
       "      <th>0</th>\n",
       "      <td>warung ini dimiliki oleh pengusaha pabrik tahu...</td>\n",
       "      <td>positive</td>\n",
       "      <td>warung dimiliki pengusaha pabrik puluhan terke...</td>\n",
       "    </tr>\n",
       "    <tr>\n",
       "      <th>1</th>\n",
       "      <td>mohon ulama lurus dan k212 mmbri hujjah partai...</td>\n",
       "      <td>neutral</td>\n",
       "      <td>mohon ulama lurus k212 mmbri hujjah partai diw...</td>\n",
       "    </tr>\n",
       "    <tr>\n",
       "      <th>2</th>\n",
       "      <td>lokasi strategis di jalan sumatera bandung . t...</td>\n",
       "      <td>positive</td>\n",
       "      <td>lokasi strategis jalan sumatra bandung nya nya...</td>\n",
       "    </tr>\n",
       "    <tr>\n",
       "      <th>3</th>\n",
       "      <td>betapa bahagia nya diri ini saat unboxing pake...</td>\n",
       "      <td>positive</td>\n",
       "      <td>betapa bahagia nya unboxing paket barang nya b...</td>\n",
       "    </tr>\n",
       "    <tr>\n",
       "      <th>4</th>\n",
       "      <td>duh . jadi mahasiswa jangan sombong dong . kas...</td>\n",
       "      <td>negative</td>\n",
       "      <td>aduh mahasiswa sombong kasih kartu kuning bela...</td>\n",
       "    </tr>\n",
       "  </tbody>\n",
       "</table>\n",
       "</div>"
      ],
      "text/plain": [
       "                                             Kalimat Sentiment  \\\n",
       "0  warung ini dimiliki oleh pengusaha pabrik tahu...  positive   \n",
       "1  mohon ulama lurus dan k212 mmbri hujjah partai...   neutral   \n",
       "2  lokasi strategis di jalan sumatera bandung . t...  positive   \n",
       "3  betapa bahagia nya diri ini saat unboxing pake...  positive   \n",
       "4  duh . jadi mahasiswa jangan sombong dong . kas...  negative   \n",
       "\n",
       "                                               Clean  \n",
       "0  warung dimiliki pengusaha pabrik puluhan terke...  \n",
       "1  mohon ulama lurus k212 mmbri hujjah partai diw...  \n",
       "2  lokasi strategis jalan sumatra bandung nya nya...  \n",
       "3  betapa bahagia nya unboxing paket barang nya b...  \n",
       "4  aduh mahasiswa sombong kasih kartu kuning bela...  "
      ]
     },
     "execution_count": 73,
     "metadata": {},
     "output_type": "execute_result"
    }
   ],
   "source": [
    "#Clean data training\n",
    "trainn['Clean'] = trainn.Kalimat.apply(clean)\n",
    "trainn.head()"
   ]
  },
  {
   "attachments": {},
   "cell_type": "markdown",
   "metadata": {},
   "source": [
    "## Neural Network (MLP Classifier)"
   ]
  },
  {
   "attachments": {},
   "cell_type": "markdown",
   "metadata": {},
   "source": [
    "### Feature Extraction"
   ]
  },
  {
   "cell_type": "code",
   "execution_count": 74,
   "metadata": {},
   "outputs": [
    {
     "name": "stdout",
     "output_type": "stream",
     "text": [
      "Feature Extraction done\n",
      "  (0, 918)\t1\n",
      "  (0, 1013)\t1\n",
      "  (0, 1163)\t1\n",
      "  (0, 1488)\t1\n",
      "  (0, 1713)\t1\n",
      "  (0, 2098)\t1\n",
      "  (0, 3742)\t1\n",
      "  (0, 3794)\t2\n",
      "  (0, 4086)\t1\n",
      "  (0, 5365)\t1\n",
      "  (0, 5759)\t1\n",
      "  (0, 6297)\t1\n",
      "  (0, 6474)\t1\n",
      "  (0, 7329)\t1\n",
      "  (0, 8398)\t1\n",
      "  (0, 8470)\t1\n",
      "  (0, 9197)\t2\n",
      "  (0, 9228)\t1\n",
      "  (0, 10067)\t1\n",
      "  (0, 10306)\t1\n",
      "  (0, 10998)\t1\n",
      "  (0, 11786)\t1\n",
      "  (0, 11824)\t1\n",
      "  (0, 12861)\t1\n",
      "  (0, 14113)\t1\n",
      "  :\t:\n",
      "  (10932, 911)\t1\n",
      "  (10932, 1168)\t1\n",
      "  (10932, 1224)\t1\n",
      "  (10932, 1383)\t1\n",
      "  (10932, 1485)\t1\n",
      "  (10932, 1867)\t1\n",
      "  (10932, 1999)\t1\n",
      "  (10932, 4020)\t1\n",
      "  (10932, 4763)\t1\n",
      "  (10932, 4764)\t1\n",
      "  (10932, 6212)\t1\n",
      "  (10932, 6312)\t1\n",
      "  (10932, 7406)\t1\n",
      "  (10932, 7735)\t1\n",
      "  (10932, 7873)\t1\n",
      "  (10932, 8026)\t1\n",
      "  (10932, 8027)\t2\n",
      "  (10932, 10067)\t3\n",
      "  (10932, 11410)\t1\n",
      "  (10932, 11411)\t1\n",
      "  (10932, 12207)\t1\n",
      "  (10932, 12243)\t1\n",
      "  (10932, 14653)\t1\n",
      "  (10932, 14809)\t1\n",
      "  (10932, 15531)\t1\n"
     ]
    }
   ],
   "source": [
    "dataprep = trainn.Clean.to_list()\n",
    "cv_nn = CountVectorizer()\n",
    "cv_nn.fit(dataprep)\n",
    "\n",
    "X = cv_nn.transform(dataprep)\n",
    "print('Feature Extraction done')\n",
    "print (X)"
   ]
  },
  {
   "cell_type": "code",
   "execution_count": 75,
   "metadata": {},
   "outputs": [],
   "source": [
    "pickle.dump(cv_nn, open('asset/feature/feature_nn.pickle','wb'))"
   ]
  },
  {
   "attachments": {},
   "cell_type": "markdown",
   "metadata": {},
   "source": [
    "### Train Model NN"
   ]
  },
  {
   "cell_type": "code",
   "execution_count": 76,
   "metadata": {},
   "outputs": [
    {
     "data": {
      "text/plain": [
       "0    positive\n",
       "1     neutral\n",
       "2    positive\n",
       "3    positive\n",
       "4    negative\n",
       "Name: Sentiment, dtype: object"
      ]
     },
     "execution_count": 76,
     "metadata": {},
     "output_type": "execute_result"
    }
   ],
   "source": [
    "Y = trainn.Sentiment\n",
    "Y.head()"
   ]
  },
  {
   "cell_type": "code",
   "execution_count": 77,
   "metadata": {},
   "outputs": [],
   "source": [
    "X_train, X_test, Y_train, Y_test = train_test_split(X,Y, test_size=0.2)"
   ]
  },
  {
   "cell_type": "code",
   "execution_count": 78,
   "metadata": {},
   "outputs": [
    {
     "name": "stdout",
     "output_type": "stream",
     "text": [
      "Training selesai\n"
     ]
    }
   ],
   "source": [
    "model_nn = MLPClassifier()\n",
    "model_nn.fit(X_train, Y_train)\n",
    "\n",
    "print('Training selesai')"
   ]
  },
  {
   "cell_type": "code",
   "execution_count": 79,
   "metadata": {},
   "outputs": [],
   "source": [
    "pickle.dump(model_nn, open('asset/model/model_nn.pickle','wb'))"
   ]
  },
  {
   "attachments": {},
   "cell_type": "markdown",
   "metadata": {},
   "source": [
    "### Evaluation NN"
   ]
  },
  {
   "cell_type": "code",
   "execution_count": 80,
   "metadata": {},
   "outputs": [
    {
     "name": "stdout",
     "output_type": "stream",
     "text": [
      "testing selesai\n",
      "              precision    recall  f1-score   support\n",
      "\n",
      "    negative       0.70      0.72      0.71       653\n",
      "     neutral       0.74      0.61      0.67       247\n",
      "    positive       0.85      0.87      0.86      1287\n",
      "\n",
      "    accuracy                           0.79      2187\n",
      "   macro avg       0.76      0.73      0.75      2187\n",
      "weighted avg       0.79      0.79      0.79      2187\n",
      "\n"
     ]
    }
   ],
   "source": [
    "test = model_nn.predict(X_test)\n",
    "\n",
    "print ('testing selesai')\n",
    "print(classification_report(Y_test, test))"
   ]
  },
  {
   "cell_type": "code",
   "execution_count": 81,
   "metadata": {},
   "outputs": [
    {
     "data": {
      "image/png": "[encoded data removed]",
      "text/plain": [
       "<Figure size 640x480 with 2 Axes>"
      ]
     },
     "metadata": {},
     "output_type": "display_data"
    }
   ],
   "source": [
    "cm_nn = confusion_matrix(Y_test, test)\n",
    "\n",
    "sns.heatmap(cm_nn, annot=True, cmap='Blues', fmt='g')\n",
    "plt.xlabel('Predicted labels')\n",
    "plt.ylabel('True labels')\n",
    "plt.show()"
   ]
  },
  {
   "cell_type": "code",
   "execution_count": 82,
   "metadata": {},
   "outputs": [],
   "source": [
    "# Create a KFold object with 5 splits and a fixed random state\n",
    "Kf = KFold(n_splits=5, shuffle=True, random_state=42)\n",
    "akurasi = []"
   ]
  },
  {
   "cell_type": "code",
   "execution_count": 83,
   "metadata": {},
   "outputs": [
    {
     "name": "stdout",
     "output_type": "stream",
     "text": [
      "Training ke:  1\n",
      "---\n",
      "              precision    recall  f1-score   support\n",
      "\n",
      "    negative       0.72      0.77      0.74       690\n",
      "     neutral       0.72      0.56      0.63       220\n",
      "    positive       0.86      0.87      0.86      1277\n",
      "\n",
      "    accuracy                           0.80      2187\n",
      "   macro avg       0.77      0.73      0.75      2187\n",
      "weighted avg       0.80      0.80      0.80      2187\n",
      "\n",
      "Training ke:  2\n",
      "---\n",
      "              precision    recall  f1-score   support\n",
      "\n",
      "    negative       0.71      0.73      0.72       667\n",
      "     neutral       0.70      0.57      0.63       219\n",
      "    positive       0.86      0.87      0.87      1301\n",
      "\n",
      "    accuracy                           0.80      2187\n",
      "   macro avg       0.76      0.72      0.74      2187\n",
      "weighted avg       0.80      0.80      0.80      2187\n",
      "\n",
      "Training ke:  3\n",
      "---\n",
      "              precision    recall  f1-score   support\n",
      "\n",
      "    negative       0.72      0.70      0.71       695\n",
      "     neutral       0.70      0.56      0.62       213\n",
      "    positive       0.84      0.88      0.86      1279\n",
      "\n",
      "    accuracy                           0.79      2187\n",
      "   macro avg       0.75      0.71      0.73      2187\n",
      "weighted avg       0.79      0.79      0.79      2187\n",
      "\n",
      "Training ke:  4\n",
      "---\n",
      "              precision    recall  f1-score   support\n",
      "\n",
      "    negative       0.68      0.74      0.71       705\n",
      "     neutral       0.71      0.55      0.62       234\n",
      "    positive       0.85      0.85      0.85      1247\n",
      "\n",
      "    accuracy                           0.78      2186\n",
      "   macro avg       0.75      0.71      0.72      2186\n",
      "weighted avg       0.78      0.78      0.78      2186\n",
      "\n",
      "Training ke:  5\n",
      "---\n",
      "              precision    recall  f1-score   support\n",
      "\n",
      "    negative       0.66      0.71      0.68       655\n",
      "     neutral       0.71      0.51      0.59       252\n",
      "    positive       0.84      0.86      0.85      1279\n",
      "\n",
      "    accuracy                           0.77      2186\n",
      "   macro avg       0.74      0.69      0.71      2186\n",
      "weighted avg       0.77      0.77      0.77      2186\n",
      "\n",
      "rata-rata akurasi:  0.7712717291857274\n"
     ]
    }
   ],
   "source": [
    "for iteration, data in enumerate(Kf.split(X), start=1):\n",
    "    data_train = X[data[0]]\n",
    "    target_train = Y[data[0]]\n",
    "\n",
    "    data_test = X[data[1]]\n",
    "    target_test = Y[data[1]]\n",
    "\n",
    "    clf = MLPClassifier()\n",
    "    clf.fit(data_train, target_train)\n",
    "    \n",
    "    pred = clf.predict(data_test)\n",
    "    akrsi = accuracy_score(target_test,pred)\n",
    "\n",
    "    print(\"Training ke: \", iteration)\n",
    "    print(\"---\")\n",
    "    print(classification_report(target_test,pred))\n",
    "\n",
    "akurasi.append(akrsi)\n",
    "print(\"rata-rata akurasi: \", np.mean(akurasi))"
   ]
  },
  {
   "attachments": {},
   "cell_type": "markdown",
   "metadata": {},
   "source": [
    "### Predict Test NN"
   ]
  },
  {
   "cell_type": "code",
   "execution_count": 101,
   "metadata": {},
   "outputs": [
    {
     "name": "stdout",
     "output_type": "stream",
     "text": [
      "\n",
      "selamat makan\n",
      "sentiment: neutral\n"
     ]
    }
   ],
   "source": [
    "ori = '''\n",
    "selamat makan'''\n",
    "\n",
    "te = cv_nn.transform([clean(ori)])\n",
    "res = model_nn.predict(te)[0]\n",
    "\n",
    "print(ori)\n",
    "print('sentiment:', res)"
   ]
  },
  {
   "attachments": {},
   "cell_type": "markdown",
   "metadata": {},
   "source": [
    "## LSTM (Long-short Term Memory)"
   ]
  },
  {
   "attachments": {},
   "cell_type": "markdown",
   "metadata": {},
   "source": [
    "### Feature Extraction LSTM"
   ]
  },
  {
   "cell_type": "code",
   "execution_count": 85,
   "metadata": {},
   "outputs": [],
   "source": [
    "neg = trainn.loc[trainn.Sentiment == 'negative'].Clean.tolist()\n",
    "neu = trainn.loc[trainn.Sentiment == 'neutral'].Clean.tolist()\n",
    "pos = trainn.loc[trainn.Sentiment == 'positive'].Clean.tolist()\n",
    "\n",
    "neg_sntmnt = trainn.loc[trainn.Sentiment == 'negative'].Sentiment.tolist()\n",
    "neu_sntmnt = trainn.loc[trainn.Sentiment == 'neutral'].Sentiment.tolist()\n",
    "pos_sntmnt = trainn.loc[trainn.Sentiment == 'positive'].Sentiment.tolist()"
   ]
  },
  {
   "cell_type": "code",
   "execution_count": 86,
   "metadata": {},
   "outputs": [
    {
     "name": "stdout",
     "output_type": "stream",
     "text": [
      "Pos: 6383, Neu: 1138, Neg: 3412\n",
      "Total data: 10933\n"
     ]
    }
   ],
   "source": [
    "total_data = pos + neu + neg\n",
    "labels = pos_sntmnt + neu_sntmnt + neg_sntmnt\n",
    "\n",
    "print(\"Pos: %s, Neu: %s, Neg: %s\" % (len(pos), len(neu), len(neg)))\n",
    "print(\"Total data: %s\" % len(total_data))"
   ]
  },
  {
   "cell_type": "code",
   "execution_count": 87,
   "metadata": {},
   "outputs": [
    {
     "name": "stdout",
     "output_type": "stream",
     "text": [
      "tokenizer.pickle has created!\n",
      "x_pad_sequences.pickle has created!\n"
     ]
    }
   ],
   "source": [
    "max_features = 15000\n",
    "tokenizer = Tokenizer(num_words=max_features, split=' ', lower=True)\n",
    "tokenizer.fit_on_texts(total_data)\n",
    "with open('asset/feature/tokenizer.pickle', 'wb') as handle:\n",
    "    pickle.dump(tokenizer, handle, protocol=pickle.HIGHEST_PROTOCOL)\n",
    "    print(\"tokenizer.pickle has created!\")\n",
    "\n",
    "X = tokenizer.texts_to_sequences(total_data)\n",
    "\n",
    "vocab_size = len(tokenizer.word_index)\n",
    "maxlen = max(len(x) for x in X)\n",
    "\n",
    "X = pad_sequences(X)\n",
    "with open('asset/feature/x_pad_sequences.pickle', 'wb') as handle:\n",
    "    pickle.dump(X, handle, protocol=pickle.HIGHEST_PROTOCOL)\n",
    "    print(\"x_pad_sequences.pickle has created!\")"
   ]
  },
  {
   "cell_type": "code",
   "execution_count": 88,
   "metadata": {},
   "outputs": [
    {
     "name": "stdout",
     "output_type": "stream",
     "text": [
      "y_labels.pickle has created!\n"
     ]
    }
   ],
   "source": [
    "Y = pd.get_dummies(labels)\n",
    "Y = Y.values\n",
    "\n",
    "with open('asset/feature/y_labels.pickle', 'wb') as handle:\n",
    "    pickle.dump(Y, handle, protocol=pickle.HIGHEST_PROTOCOL)\n",
    "    print(\"y_labels.pickle has created!\")"
   ]
  },
  {
   "attachments": {},
   "cell_type": "markdown",
   "metadata": {},
   "source": [
    "### Train Model LSTM"
   ]
  },
  {
   "cell_type": "code",
   "execution_count": 89,
   "metadata": {},
   "outputs": [],
   "source": [
    "file = open(\"asset/feature/x_pad_sequences.pickle\",'rb')\n",
    "X = pickle.load(file)\n",
    "file.close()\n",
    "\n",
    "file = open(\"asset/feature/y_labels.pickle\",'rb')\n",
    "Y = pickle.load(file)\n",
    "file.close()\n",
    "\n",
    "X_train, X_test, y_train, y_test = train_test_split(X, Y, test_size=0.2, random_state=1)"
   ]
  },
  {
   "cell_type": "code",
   "execution_count": 90,
   "metadata": {},
   "outputs": [
    {
     "name": "stdout",
     "output_type": "stream",
     "text": [
      "Model: \"sequential_15\"\n",
      "_________________________________________________________________\n",
      " Layer (type)                Output Shape              Param #   \n",
      "=================================================================\n",
      " embedding_15 (Embedding)    (None, 78, 100)           1500000   \n",
      "                                                                 \n",
      " lstm_15 (LSTM)              (None, 64)                42240     \n",
      "                                                                 \n",
      " dense_15 (Dense)            (None, 3)                 195       \n",
      "                                                                 \n",
      "=================================================================\n",
      "Total params: 1,542,435\n",
      "Trainable params: 1,542,435\n",
      "Non-trainable params: 0\n",
      "_________________________________________________________________\n",
      "None\n",
      "Epoch 1/50\n"
     ]
    },
    {
     "name": "stderr",
     "output_type": "stream",
     "text": [
      "c:\\Users\\BAV USER\\Python\\lib\\site-packages\\keras\\optimizers\\legacy\\adam.py:117: UserWarning: The `lr` argument is deprecated, use `learning_rate` instead.\n",
      "  super().__init__(name, **kwargs)\n"
     ]
    },
    {
     "name": "stdout",
     "output_type": "stream",
     "text": [
      "137/137 [==============================] - 23s 147ms/step - loss: 0.7657 - accuracy: 0.7439 - val_loss: 0.5550 - val_accuracy: 0.7842\n",
      "Epoch 2/50\n",
      "137/137 [==============================] - 21s 152ms/step - loss: 0.4126 - accuracy: 0.8526 - val_loss: 0.4314 - val_accuracy: 0.8555\n",
      "Epoch 3/50\n",
      "137/137 [==============================] - 22s 160ms/step - loss: 0.2771 - accuracy: 0.9197 - val_loss: 0.4353 - val_accuracy: 0.8615\n",
      "Epoch 3: early stopping\n"
     ]
    }
   ],
   "source": [
    "embed_dim = 100\n",
    "units = 64\n",
    "\n",
    "model = Sequential()\n",
    "model.add(Embedding(max_features, embed_dim, input_length=X.shape[1]))\n",
    "model.add(LSTM(64, dropout=0.1, recurrent_dropout=0.1, kernel_regularizer=regularizers.l2(0.002)))\n",
    "model.add(Dense(3,activation='softmax'))\n",
    "\n",
    "adam = optimizers.Adam(lr = 0.001)\n",
    "model.compile(loss = 'categorical_crossentropy', optimizer = adam, metrics = ['accuracy'])\n",
    "print(model.summary())\n",
    "\n",
    "es = EarlyStopping(monitor='val_loss', mode='min', verbose=1)\n",
    "history = model.fit(X_train, y_train, epochs=50, batch_size=64, validation_data=(X_test, y_test), verbose=1, callbacks=[es])"
   ]
  },
  {
   "attachments": {},
   "cell_type": "markdown",
   "metadata": {},
   "source": [
    "### Evaluation LSTM"
   ]
  },
  {
   "cell_type": "code",
   "execution_count": 91,
   "metadata": {},
   "outputs": [
    {
     "name": "stdout",
     "output_type": "stream",
     "text": [
      "69/69 [==============================] - 1s 14ms/step\n",
      "Testing selesai\n",
      "              precision    recall  f1-score   support\n",
      "\n",
      "           0       0.81      0.78      0.79       668\n",
      "           1       0.85      0.65      0.73       231\n",
      "           2       0.89      0.94      0.91      1288\n",
      "\n",
      "    accuracy                           0.86      2187\n",
      "   macro avg       0.85      0.79      0.81      2187\n",
      "weighted avg       0.86      0.86      0.86      2187\n",
      "\n"
     ]
    }
   ],
   "source": [
    "predictions = model.predict(X_test)\n",
    "y_pred = predictions\n",
    "y_pred_classes = np.argmax(y_pred, axis=1)\n",
    "Y_test_classes = np.argmax(y_test, axis=1)\n",
    "matrix_test = metrics.classification_report(Y_test_classes, y_pred_classes)\n",
    "print(\"Testing selesai\")\n",
    "print(matrix_test)"
   ]
  },
  {
   "cell_type": "code",
   "execution_count": 92,
   "metadata": {},
   "outputs": [
    {
     "data": {
      "image/png": "[encoded data removed]",
      "text/plain": [
       "<Figure size 640x480 with 2 Axes>"
      ]
     },
     "metadata": {},
     "output_type": "display_data"
    }
   ],
   "source": [
    "cm_LSTM = confusion_matrix(Y_test_classes, y_pred_classes)\n",
    "\n",
    "sns.heatmap(cm_LSTM, annot=True, cmap='Blues', fmt='g')\n",
    "plt.xlabel('Predicted labels')\n",
    "plt.ylabel('True labels')\n",
    "plt.show()"
   ]
  },
  {
   "cell_type": "code",
   "execution_count": 93,
   "metadata": {},
   "outputs": [
    {
     "name": "stderr",
     "output_type": "stream",
     "text": [
      "c:\\Users\\BAV USER\\Python\\lib\\site-packages\\keras\\optimizers\\legacy\\adam.py:117: UserWarning: The `lr` argument is deprecated, use `learning_rate` instead.\n",
      "  super().__init__(name, **kwargs)\n"
     ]
    },
    {
     "name": "stdout",
     "output_type": "stream",
     "text": [
      "69/69 [==============================] - 2s 15ms/step\n",
      "Training ke- 1\n",
      "              precision    recall  f1-score   support\n",
      "\n",
      "           0       0.84      0.70      0.76       668\n",
      "           1       0.71      0.77      0.74       231\n",
      "           2       0.88      0.94      0.91      1288\n",
      "\n",
      "    accuracy                           0.85      2187\n",
      "   macro avg       0.81      0.80      0.80      2187\n",
      "weighted avg       0.85      0.85      0.85      2187\n",
      "\n",
      "======================================================\n"
     ]
    },
    {
     "name": "stderr",
     "output_type": "stream",
     "text": [
      "c:\\Users\\BAV USER\\Python\\lib\\site-packages\\keras\\optimizers\\legacy\\adam.py:117: UserWarning: The `lr` argument is deprecated, use `learning_rate` instead.\n",
      "  super().__init__(name, **kwargs)\n"
     ]
    },
    {
     "name": "stdout",
     "output_type": "stream",
     "text": [
      "69/69 [==============================] - 4s 39ms/step\n",
      "Training ke- 2\n",
      "              precision    recall  f1-score   support\n",
      "\n",
      "           0       0.80      0.78      0.79       668\n",
      "           1       0.81      0.70      0.75       231\n",
      "           2       0.89      0.93      0.91      1288\n",
      "\n",
      "    accuracy                           0.86      2187\n",
      "   macro avg       0.84      0.80      0.82      2187\n",
      "weighted avg       0.86      0.86      0.86      2187\n",
      "\n",
      "======================================================\n"
     ]
    },
    {
     "name": "stderr",
     "output_type": "stream",
     "text": [
      "c:\\Users\\BAV USER\\Python\\lib\\site-packages\\keras\\optimizers\\legacy\\adam.py:117: UserWarning: The `lr` argument is deprecated, use `learning_rate` instead.\n",
      "  super().__init__(name, **kwargs)\n"
     ]
    },
    {
     "name": "stdout",
     "output_type": "stream",
     "text": [
      "69/69 [==============================] - 4s 39ms/step\n",
      "Training ke- 3\n",
      "              precision    recall  f1-score   support\n",
      "\n",
      "           0       0.78      0.80      0.79       668\n",
      "           1       0.85      0.68      0.75       231\n",
      "           2       0.90      0.92      0.91      1288\n",
      "\n",
      "    accuracy                           0.86      2187\n",
      "   macro avg       0.84      0.80      0.82      2187\n",
      "weighted avg       0.86      0.86      0.86      2187\n",
      "\n",
      "======================================================\n"
     ]
    },
    {
     "name": "stderr",
     "output_type": "stream",
     "text": [
      "c:\\Users\\BAV USER\\Python\\lib\\site-packages\\keras\\optimizers\\legacy\\adam.py:117: UserWarning: The `lr` argument is deprecated, use `learning_rate` instead.\n",
      "  super().__init__(name, **kwargs)\n"
     ]
    },
    {
     "name": "stdout",
     "output_type": "stream",
     "text": [
      "69/69 [==============================] - 4s 43ms/step\n",
      "Training ke- 4\n",
      "              precision    recall  f1-score   support\n",
      "\n",
      "           0       0.84      0.77      0.80       668\n",
      "           1       0.76      0.78      0.77       231\n",
      "           2       0.90      0.93      0.92      1288\n",
      "\n",
      "    accuracy                           0.87      2187\n",
      "   macro avg       0.83      0.83      0.83      2187\n",
      "weighted avg       0.87      0.87      0.87      2187\n",
      "\n",
      "======================================================\n"
     ]
    },
    {
     "name": "stderr",
     "output_type": "stream",
     "text": [
      "c:\\Users\\BAV USER\\Python\\lib\\site-packages\\keras\\optimizers\\legacy\\adam.py:117: UserWarning: The `lr` argument is deprecated, use `learning_rate` instead.\n",
      "  super().__init__(name, **kwargs)\n"
     ]
    },
    {
     "name": "stdout",
     "output_type": "stream",
     "text": [
      "69/69 [==============================] - 1s 15ms/step\n",
      "Training ke- 5\n",
      "              precision    recall  f1-score   support\n",
      "\n",
      "           0       0.78      0.78      0.78       668\n",
      "           1       0.79      0.67      0.72       231\n",
      "           2       0.90      0.91      0.90      1288\n",
      "\n",
      "    accuracy                           0.85      2187\n",
      "   macro avg       0.82      0.79      0.80      2187\n",
      "weighted avg       0.85      0.85      0.85      2187\n",
      "\n",
      "======================================================\n",
      "\n",
      "\n",
      "\n",
      "Rata-rata Accuracy:  85.62414266117969\n"
     ]
    }
   ],
   "source": [
    "kf = KFold(n_splits=5,random_state=42,shuffle=True)\n",
    "\n",
    "accuracies = []\n",
    "\n",
    "y = Y\n",
    "\n",
    "embed_dim = 100\n",
    "units = 64\n",
    "\n",
    "for iteration, data in enumerate(kf.split(X), start=1):\n",
    "\n",
    "    data_train   = X[data[0]]\n",
    "    target_train = y[data[0]]\n",
    "\n",
    "    data_test    = X[data[1]]\n",
    "    target_test  = y[data[1]]\n",
    "\n",
    "\n",
    "    model = Sequential()\n",
    "    model.add(Embedding(max_features, embed_dim, input_length=X.shape[1]))\n",
    "    model.add(LSTM(units, dropout=0.2))\n",
    "    model.add(Dense(3,activation='softmax'))\n",
    "\n",
    "    adam = optimizers.Adam(lr = 0.001)\n",
    "    model.compile(loss = 'categorical_crossentropy', optimizer = adam, metrics = ['accuracy'])\n",
    "\n",
    "    es = EarlyStopping(monitor='val_loss', mode='min', verbose=0)\n",
    "    history = model.fit(X_train, y_train, epochs=10, batch_size=10, validation_data=(X_test, y_test), verbose=0, callbacks=[es])\n",
    "\n",
    "    predictions = model.predict(X_test)\n",
    "    y_pred = predictions\n",
    "\n",
    "    # for the current fold only    \n",
    "    accuracy = accuracy_score(y_test.argmax(axis=1), y_pred.argmax(axis=1))\n",
    "\n",
    "    print(\"Training ke-\", iteration)\n",
    "    print(classification_report(y_test.argmax(axis=1), y_pred.argmax(axis=1)))\n",
    "    print(\"======================================================\")\n",
    "\n",
    "    accuracies.append(accuracy)\n",
    "\n",
    "# this is the average accuracy over all folds\n",
    "average_accuracy = np.mean(accuracies)\n",
    "\n",
    "print()\n",
    "print()\n",
    "print()\n",
    "print(\"Rata-rata Accuracy: \", average_accuracy *100)"
   ]
  },
  {
   "cell_type": "code",
   "execution_count": 94,
   "metadata": {},
   "outputs": [
    {
     "data": {
      "image/png": "[encoded data removed]",
      "text/plain": [
       "<Figure size 1200x500 with 2 Axes>"
      ]
     },
     "metadata": {},
     "output_type": "display_data"
    }
   ],
   "source": [
    "# history.history\n",
    "import matplotlib.pyplot as plt\n",
    "plt.style.use('ggplot')\n",
    "\n",
    "def plot_history(history):\n",
    "    acc = history.history['accuracy']\n",
    "    val_acc = history.history['val_accuracy']\n",
    "    loss = history.history['loss']\n",
    "    val_loss = history.history['val_loss']\n",
    "    x = range(1, len(acc) + 1)\n",
    "\n",
    "    plt.figure(figsize=(12, 5))\n",
    "    plt.subplot(1, 2, 1)\n",
    "    plt.plot(x, acc, 'b', label='Training acc')\n",
    "    plt.plot(x, val_acc, 'r', label='Validation acc')\n",
    "    plt.title('Training and validation accuracy')\n",
    "    plt.legend()\n",
    "    plt.subplot(1, 2, 2)\n",
    "    plt.plot(x, loss, 'b', label='Training loss')\n",
    "    plt.plot(x, val_loss, 'r', label='Validation loss')\n",
    "    plt.title('Training and validation loss')\n",
    "    plt.legend()\n",
    "\n",
    "%matplotlib inline\n",
    "plot_history(history)"
   ]
  },
  {
   "cell_type": "code",
   "execution_count": 95,
   "metadata": {},
   "outputs": [
    {
     "name": "stdout",
     "output_type": "stream",
     "text": [
      "Model has created!\n"
     ]
    }
   ],
   "source": [
    "model.save('asset/model/model_lstm.h5')\n",
    "print(\"Model has created!\")"
   ]
  },
  {
   "attachments": {},
   "cell_type": "markdown",
   "metadata": {},
   "source": [
    "### Predict Test LSTM"
   ]
  },
  {
   "cell_type": "code",
   "execution_count": 96,
   "metadata": {},
   "outputs": [
    {
     "name": "stdout",
     "output_type": "stream",
     "text": [
      "1/1 [==============================] - 0s 391ms/step\n",
      "Text:  selamat malam\n",
      "Sentiment:  neutral\n"
     ]
    }
   ],
   "source": [
    "input_text = \"\"\"\n",
    "selamat malam semua\"\"\"\n",
    "\n",
    "sentiment = ['negative', 'neutral', 'positive']\n",
    "\n",
    "text = [clean(input_text)]\n",
    "predicted = tokenizer.texts_to_sequences(text)\n",
    "guess = pad_sequences(predicted, maxlen=X.shape[1])\n",
    "\n",
    "model_lstm = load_model('asset/model/model_lstm.h5')\n",
    "prediction = model_lstm.predict(guess)\n",
    "polarity = np.argmax(prediction[0])\n",
    "\n",
    "print(\"Text: \",text[0])\n",
    "print(\"Sentiment: \",sentiment[polarity])"
   ]
  }
 ],
 "metadata": {
  "kernelspec": {
   "display_name": "Python 3",
   "language": "python",
   "name": "python3"
  },
  "language_info": {
   "codemirror_mode": {
    "name": "ipython",
    "version": 3
   },
   "file_extension": ".py",
   "mimetype": "text/x-python",
   "name": "python",
   "nbconvert_exporter": "python",
   "pygments_lexer": "ipython3",
   "version": "3.9.13"
  },
  "orig_nbformat": 4
 },
 "nbformat": 4,
 "nbformat_minor": 2
}
